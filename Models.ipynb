{
  "nbformat": 4,
  "nbformat_minor": 0,
  "metadata": {
    "colab": {
      "provenance": [],
      "collapsed_sections": [
        "S6lh-5rJjIW0",
        "9HrqhMDczu84"
      ]
    },
    "kernelspec": {
      "name": "python3",
      "display_name": "Python 3"
    },
    "language_info": {
      "name": "python"
    }
  },
  "cells": [
    {
      "cell_type": "markdown",
      "source": [
        "<center>\n",
        "\n",
        "#    \n",
        "\n",
        "## 2022./2023.\n",
        "\n",
        "# EEG Playground\n",
        "\n",
        "#### Josipa Radak\n",
        "\n",
        "</center>"
      ],
      "metadata": {
        "id": "S6lh-5rJjIW0"
      }
    },
    {
      "cell_type": "markdown",
      "source": [
        "# 1. Introduction\n",
        "\n",
        "<p align=\"justify\">\n",
        "A Brain–computer interface (BCI) is a means of communication between a human and a computer, based on brain activity. It can be invasive or non-invasive and is specific in that it is independent of the activation of the human's peripheral nerves and muscles. NeuroSky MindWave is one such device that uses electroencephalography (EEG) to measure brain activity. It is a sensor with a single non-invasive dry electrode that is placed at the position\n",
        "<a href=\"https://info.tmsi.com/blog/the-10-20-system-for-eeg\">FP1</a> (above the left eyebrow). With this sensor, we can retrieve data filtered using high and low-pass filters (1 to 50 Hz), where frequencies are amplified by an amplifier and separated by <a href=\"https://docs.google.com/presentation/d/1kflVsVrZ5qekad7Y3t1a4fnQam75JHvJ/edit?usp=share_link&ouid=115435477683811347134&rtpof=true&sd=true\">fast Fourier transform </a> <a href=\"https://drive.google.com/file/d/1lmavMPYYjmbSUIv7yupD-VjXudvi-P0R/view?usp=share_link\" >(FFT)</a>. NeuroSky MindWave samples at 512Hz (the number of samples per second must be at least 2.5 times the highest frequency). In addition to reading brainwave strength, NeuroSky has developed the eSenseTM algorithm, which measures attention and meditation levels, displayed as values from 0 to 100.\n",
        "\n",
        "<p align=\"justify\">\n",
        "This device can be used for various applications, including predicting the desired direction of movement of an object. Such an application can be useful in various fields, such as video games, device control, and medicine.\n",
        "\n",
        "<p align=\"justify\">\n",
        "In this project, we will attempt to create a BCI to control the direction of movement of an object (up, down, left, and right).\n",
        "\n",
        "# 2. Project Description\n",
        "\n",
        "<p align=\"justify\">\n",
        "As part of this project, an application has been developed to collect data, create simple machine learning models, and ultimately control the direction of movement of a ball. The application itself is built in React, a JavaScript-based framework. To enable communication between NeuroSky Mindwave and the frontend, a backend was created using the Node.js Express framework, and communication is done using Sockets. Socket was used because data from MindWave is sent every second and this data needs to be retrieved in real-time for display, prediction, etc. Another backend was created in Python <a href=\"https://flask.palletsprojects.com/en/2.2.x/\">Flask</a> (a mini web framework). The Python backend is used for machine learning models (training, prediction).\n",
        "\n",
        "<p align=\"justify\">\n",
        "First, data collection comes into play. To begin with, it is necessary to determine what data we are collecting, whether it is endogenous or exogenous interface. In this case, we have an endogenous interface because we do not react to stimuli; rather, we want to determine the direction of movement from some internal processes (thoughts). Here, we must also be careful about the specificity of the EEG signal, i.e., each person's brain works differently and emits different brain signals, so if predictions are good for one person, it does not necessarily mean they will be good for another person. To build a more general system, it is necessary to collect signals from a much larger number of people. In this specific case, the data was collected only from one person. We already know that with the NeuroSky MindWave, we can retrieve values for different brain waves, so we will put each value in a separate column. NeuroSky Mindwave does most of the data processing, but we still need to refine the data a bit. Of course, not all the values we can retrieve will be needed for training the model, so we will select columns, and it will be necessary to scale the data because the data can take on large values (in tens of thousands), which can significantly affect the accuracy of the model.\n",
        "\n",
        "<p align=\"justify\">\n",
        "After collecting the data, we can move on to training the models. The chosen algorithms are k-nearest neighbors, support vector machine, and convolutional neural network. These three algorithms are chosen because they are very popular in classification in brain-computer interfaces. The k-nearest neighbors algorithm is one of the simplest supervised learning algorithms that can give good results even on small data sets and has few parameters to adjust for good performance. As it can give good results in binary classification, it can also give good results in multiclass classification. Next comes the support vector machine, which is also a supervised learning algorithm. This is an algorithm that often gives the best results in classification in brain-computer interfaces. Although it is intended for binary classification, it can be used for multiclass classification. The results that SVM gives depend a lot on the parameters that are used, so attention should be paid to that. Also, SVM performs well on smaller data sets, so there is an advantage to using it in this case. Lastly, we have the convolutional neural network. CNN is an artificial neural network that has various applications, most commonly used in image classification. In addition, it is very popular in time series classification. Often, time series data are from different sensors (accelerometer, gyroscope, EKG, EEG). The advantage of CNN over others is that it can automatically extract features. The disadvantage of CNN is that it requires a lot of data for good accuracy, requires adjustment of many parameters that can significantly affect accuracy, and there can be applied different architectures (different number of layers, types of layers) which can also significantly affect accuracy. For these reasons, we will try to make a simple CNN, but it does not necessarily mean it will give good results.\n",
        "\n",
        "<p align=\"justify\">\n",
        "Finally, we will look at the accuracy obtained from different models and compare them. After we train the model, we can move on to the fun part, which is prediction, i.e., the game.\n",
        "\n",
        "<center>\n",
        "<img src=\"https://www.mdpi.com/sensors/sensors-21-05746/article_deploy/html/images/sensors-21-05746-g002.png\" height=\"260px\"/>\n",
        "</center>"
      ],
      "metadata": {
        "id": "9HrqhMDczu84"
      }
    },
    {
      "cell_type": "markdown",
      "source": [
        "# 2. Libraries"
      ],
      "metadata": {
        "id": "AGGgz1iTj1Ox"
      }
    },
    {
      "cell_type": "markdown",
      "source": [
        "[***NumPy***](https://numpy.org/doc/stable/index.html) is a Python library that adds support for large, multi-dimensional arrays and matrices, along with a large collection of high-level mathematical functions for operating on these arrays.\n",
        "\n",
        "[***Pandas***](https://pandas.pydata.org/) is a Python library for data manipulation and analysis. Specifically, it provides data structures and operations for manipulating numerical tables and time series.\n",
        "\n",
        "[***SciPy***](https://scipy.org/) is a Python library used for scientific and technical computing. SciPy contains modules for optimization, linear algebra, integration, interpolation, special functions, FFT, signal and image processing, and other tasks common in science and engineering.\n",
        "\n",
        "[***Matplotlib***](https://matplotlib.org/stable/index.html) is a Python library for plotting and numerical mathematics extension of NumPy.\n",
        "\n",
        "[***Seaborn***](https://seaborn.pydata.org/#) is a Python library for data visualization based on matplotlib. It provides a high-level interface for creating attractive and informative statistical graphics.\n",
        "\n",
        "[***Scikit-learn***](https://scikit-learn.org/stable/) is a Python library for machine learning. It contains various algorithms for classification, regression, and clustering."
      ],
      "metadata": {
        "id": "A28ejDbHkDD3"
      }
    },
    {
      "cell_type": "code",
      "source": [
        "!pip install feature_engine"
      ],
      "metadata": {
        "id": "4zmbegqvhMJ9",
        "colab": {
          "base_uri": "https://localhost:8080/"
        },
        "outputId": "1b3883ef-23cc-48ff-d6c3-1bf5fd7a14a2"
      },
      "execution_count": null,
      "outputs": [
        {
          "output_type": "stream",
          "name": "stdout",
          "text": [
            "Looking in indexes: https://pypi.org/simple, https://us-python.pkg.dev/colab-wheels/public/simple/\n",
            "Requirement already satisfied: feature_engine in /usr/local/lib/python3.9/dist-packages (1.5.2)\n",
            "Requirement already satisfied: scikit-learn>=1.0.0 in /usr/local/lib/python3.9/dist-packages (from feature_engine) (1.2.2)\n",
            "Requirement already satisfied: numpy>=1.18.2 in /usr/local/lib/python3.9/dist-packages (from feature_engine) (1.22.4)\n",
            "Requirement already satisfied: statsmodels>=0.11.1 in /usr/local/lib/python3.9/dist-packages (from feature_engine) (0.13.5)\n",
            "Requirement already satisfied: scipy>=1.4.1 in /usr/local/lib/python3.9/dist-packages (from feature_engine) (1.10.1)\n",
            "Requirement already satisfied: pandas>=1.0.3 in /usr/local/lib/python3.9/dist-packages (from feature_engine) (1.4.4)\n",
            "Requirement already satisfied: pytz>=2020.1 in /usr/local/lib/python3.9/dist-packages (from pandas>=1.0.3->feature_engine) (2022.7.1)\n",
            "Requirement already satisfied: python-dateutil>=2.8.1 in /usr/local/lib/python3.9/dist-packages (from pandas>=1.0.3->feature_engine) (2.8.2)\n",
            "Requirement already satisfied: threadpoolctl>=2.0.0 in /usr/local/lib/python3.9/dist-packages (from scikit-learn>=1.0.0->feature_engine) (3.1.0)\n",
            "Requirement already satisfied: joblib>=1.1.1 in /usr/local/lib/python3.9/dist-packages (from scikit-learn>=1.0.0->feature_engine) (1.1.1)\n",
            "Requirement already satisfied: packaging>=21.3 in /usr/local/lib/python3.9/dist-packages (from statsmodels>=0.11.1->feature_engine) (23.0)\n",
            "Requirement already satisfied: patsy>=0.5.2 in /usr/local/lib/python3.9/dist-packages (from statsmodels>=0.11.1->feature_engine) (0.5.3)\n",
            "Requirement already satisfied: six in /usr/local/lib/python3.9/dist-packages (from patsy>=0.5.2->statsmodels>=0.11.1->feature_engine) (1.15.0)\n"
          ]
        }
      ]
    },
    {
      "cell_type": "code",
      "source": [
        "import pandas as pd\n",
        "import numpy as np\n",
        "\n",
        "#visualisations\n",
        "import plotly as pt\n",
        "import matplotlib.pyplot as plt\n",
        "import seaborn as sns\n",
        "\n",
        "#data preparation\n",
        "from sklearn.preprocessing import MinMaxScaler, RobustScaler\n",
        "from sklearn.model_selection import train_test_split\n",
        "\n",
        "#algorithms\n",
        "from sklearn.neighbors import KNeighborsClassifier\n",
        "from sklearn import svm\n",
        "\n",
        "#metrics\n",
        "from sklearn.metrics import accuracy_score, mean_squared_error, confusion_matrix, ConfusionMatrixDisplay\n",
        "\n",
        "#choice of the best model\n",
        "from sklearn.model_selection import GridSearchCV\n",
        "from feature_engine.encoding import CountFrequencyEncoder\n",
        "\n",
        "#saving model\n",
        "from joblib import dump, load"
      ],
      "metadata": {
        "id": "hq3bVnmjjxrO"
      },
      "execution_count": null,
      "outputs": []
    },
    {
      "cell_type": "markdown",
      "source": [
        "[***TensorFlow***](https://www.tensorflow.org/learn) is a free and open-source software library for machine learning and artificial intelligence. It can be used in a variety of tasks but has a particular focus on training and inference of deep neural networks.\n",
        "\n",
        "[***Keras***](https://keras.io/about/) is a Python library that allows us to implement neural networks."
      ],
      "metadata": {
        "id": "KeZUqxH_Oj-e"
      }
    },
    {
      "cell_type": "code",
      "source": [
        "import tensorflow as tf\n",
        "from tensorflow.keras.models import Sequential\n",
        "from tensorflow.keras.layers import Dense, Flatten, Conv1D, MaxPooling1D\n",
        "from tensorflow.keras.optimizers import Adam"
      ],
      "metadata": {
        "id": "Hd6OvZbtORiU"
      },
      "execution_count": null,
      "outputs": []
    },
    {
      "cell_type": "code",
      "source": [
        "pd.options.mode.chained_assignment = None # remove copy warnings from Pandas"
      ],
      "metadata": {
        "id": "HTtt7wb8gZyh"
      },
      "execution_count": null,
      "outputs": []
    },
    {
      "cell_type": "markdown",
      "source": [
        "# 3. Data"
      ],
      "metadata": {
        "id": "X5RF7fgRkzd-"
      }
    },
    {
      "cell_type": "markdown",
      "source": [
        "## 3.1. Loading the data"
      ],
      "metadata": {
        "id": "9ZIQgbD1lqME"
      }
    },
    {
      "cell_type": "code",
      "source": [
        "from google.colab import drive\n",
        "drive.mount('/content/drive')"
      ],
      "metadata": {
        "colab": {
          "base_uri": "https://localhost:8080/"
        },
        "id": "yOzKlcAClD6Y",
        "outputId": "cd1d2fc3-60a3-41c5-a45e-f2e898b3ec84"
      },
      "execution_count": null,
      "outputs": [
        {
          "output_type": "stream",
          "name": "stdout",
          "text": [
            "Drive already mounted at /content/drive; to attempt to forcibly remount, call drive.mount(\"/content/drive\", force_remount=True).\n"
          ]
        }
      ]
    },
    {
      "cell_type": "code",
      "source": [
        "%cd /content/drive/MyDrive/strojno/ml_projekt/data1"
      ],
      "metadata": {
        "colab": {
          "base_uri": "https://localhost:8080/"
        },
        "id": "1BxGrm7JlLWg",
        "outputId": "cb65fa0e-b38c-4a31-e89c-3b49c9c87cdd"
      },
      "execution_count": null,
      "outputs": [
        {
          "output_type": "stream",
          "name": "stdout",
          "text": [
            "/content/drive/MyDrive/strojno/ml_projekt/data1\n"
          ]
        }
      ]
    },
    {
      "cell_type": "code",
      "source": [
        "# laoding the data\n",
        "df = pd.read_csv('data_eeg.csv')"
      ],
      "metadata": {
        "id": "PPBPcvuTlOiK"
      },
      "execution_count": null,
      "outputs": []
    },
    {
      "cell_type": "code",
      "source": [
        "# columns in df\n",
        "print(f\"Dataset has {df.shape[0]} rows and {df.shape[1]} columns.\")\n",
        "df.columns"
      ],
      "metadata": {
        "colab": {
          "base_uri": "https://localhost:8080/"
        },
        "id": "PhS7Sn4wlUin",
        "outputId": "5e491783-736d-4f5f-d0dd-9910053d2699"
      },
      "execution_count": null,
      "outputs": [
        {
          "output_type": "stream",
          "name": "stdout",
          "text": [
            "Skup podataka ima 672 redaka i 11 stupaca.\n"
          ]
        },
        {
          "output_type": "execute_result",
          "data": {
            "text/plain": [
              "Index(['Attention', 'Meditation', 'Delta', 'Theta', 'LowAlpha', 'HighAlpha',\n",
              "       'LowBeta', 'HighBeta', 'LowGamma', 'HighGamma', 'Direction'],\n",
              "      dtype='object')"
            ]
          },
          "metadata": {},
          "execution_count": 179
        }
      ]
    },
    {
      "cell_type": "code",
      "source": [
        "# data types\n",
        "df.dtypes"
      ],
      "metadata": {
        "colab": {
          "base_uri": "https://localhost:8080/"
        },
        "id": "CMMicTegl_Bi",
        "outputId": "4baefbb7-c3b5-4371-beee-0a535c456452"
      },
      "execution_count": null,
      "outputs": [
        {
          "output_type": "execute_result",
          "data": {
            "text/plain": [
              "Attention      int64\n",
              "Meditation     int64\n",
              "Delta          int64\n",
              "Theta          int64\n",
              "LowAlpha       int64\n",
              "HighAlpha      int64\n",
              "LowBeta        int64\n",
              "HighBeta       int64\n",
              "LowGamma       int64\n",
              "HighGamma      int64\n",
              "Direction     object\n",
              "dtype: object"
            ]
          },
          "metadata": {},
          "execution_count": 180
        }
      ]
    },
    {
      "cell_type": "code",
      "source": [
        "# what the first three rows of data look like\n",
        "df.head(n=3)"
      ],
      "metadata": {
        "colab": {
          "base_uri": "https://localhost:8080/",
          "height": 143
        },
        "id": "DoDZN3cwlnDe",
        "outputId": "6715afe3-8b4d-44b1-8517-ba870712f126"
      },
      "execution_count": null,
      "outputs": [
        {
          "output_type": "execute_result",
          "data": {
            "text/plain": [
              "   Attention  Meditation    Delta   Theta  LowAlpha  HighAlpha  LowBeta  \\\n",
              "0          0           0  1211551  158308     40565      60230    86218   \n",
              "1          0           0   872492  138722     17569      22709    39100   \n",
              "2          0           0  1123537   13235      2815      34621     3916   \n",
              "\n",
              "   HighBeta  LowGamma  HighGamma Direction  \n",
              "0     15418      7542       2469        Up  \n",
              "1     11003      6746       7458        Up  \n",
              "2      2358      1582       1966        Up  "
            ],
            "text/html": [
              "\n",
              "  <div id=\"df-258cf892-e680-43a4-af30-5fba275f95ad\">\n",
              "    <div class=\"colab-df-container\">\n",
              "      <div>\n",
              "<style scoped>\n",
              "    .dataframe tbody tr th:only-of-type {\n",
              "        vertical-align: middle;\n",
              "    }\n",
              "\n",
              "    .dataframe tbody tr th {\n",
              "        vertical-align: top;\n",
              "    }\n",
              "\n",
              "    .dataframe thead th {\n",
              "        text-align: right;\n",
              "    }\n",
              "</style>\n",
              "<table border=\"1\" class=\"dataframe\">\n",
              "  <thead>\n",
              "    <tr style=\"text-align: right;\">\n",
              "      <th></th>\n",
              "      <th>Attention</th>\n",
              "      <th>Meditation</th>\n",
              "      <th>Delta</th>\n",
              "      <th>Theta</th>\n",
              "      <th>LowAlpha</th>\n",
              "      <th>HighAlpha</th>\n",
              "      <th>LowBeta</th>\n",
              "      <th>HighBeta</th>\n",
              "      <th>LowGamma</th>\n",
              "      <th>HighGamma</th>\n",
              "      <th>Direction</th>\n",
              "    </tr>\n",
              "  </thead>\n",
              "  <tbody>\n",
              "    <tr>\n",
              "      <th>0</th>\n",
              "      <td>0</td>\n",
              "      <td>0</td>\n",
              "      <td>1211551</td>\n",
              "      <td>158308</td>\n",
              "      <td>40565</td>\n",
              "      <td>60230</td>\n",
              "      <td>86218</td>\n",
              "      <td>15418</td>\n",
              "      <td>7542</td>\n",
              "      <td>2469</td>\n",
              "      <td>Up</td>\n",
              "    </tr>\n",
              "    <tr>\n",
              "      <th>1</th>\n",
              "      <td>0</td>\n",
              "      <td>0</td>\n",
              "      <td>872492</td>\n",
              "      <td>138722</td>\n",
              "      <td>17569</td>\n",
              "      <td>22709</td>\n",
              "      <td>39100</td>\n",
              "      <td>11003</td>\n",
              "      <td>6746</td>\n",
              "      <td>7458</td>\n",
              "      <td>Up</td>\n",
              "    </tr>\n",
              "    <tr>\n",
              "      <th>2</th>\n",
              "      <td>0</td>\n",
              "      <td>0</td>\n",
              "      <td>1123537</td>\n",
              "      <td>13235</td>\n",
              "      <td>2815</td>\n",
              "      <td>34621</td>\n",
              "      <td>3916</td>\n",
              "      <td>2358</td>\n",
              "      <td>1582</td>\n",
              "      <td>1966</td>\n",
              "      <td>Up</td>\n",
              "    </tr>\n",
              "  </tbody>\n",
              "</table>\n",
              "</div>\n",
              "      <button class=\"colab-df-convert\" onclick=\"convertToInteractive('df-258cf892-e680-43a4-af30-5fba275f95ad')\"\n",
              "              title=\"Convert this dataframe to an interactive table.\"\n",
              "              style=\"display:none;\">\n",
              "        \n",
              "  <svg xmlns=\"http://www.w3.org/2000/svg\" height=\"24px\"viewBox=\"0 0 24 24\"\n",
              "       width=\"24px\">\n",
              "    <path d=\"M0 0h24v24H0V0z\" fill=\"none\"/>\n",
              "    <path d=\"M18.56 5.44l.94 2.06.94-2.06 2.06-.94-2.06-.94-.94-2.06-.94 2.06-2.06.94zm-11 1L8.5 8.5l.94-2.06 2.06-.94-2.06-.94L8.5 2.5l-.94 2.06-2.06.94zm10 10l.94 2.06.94-2.06 2.06-.94-2.06-.94-.94-2.06-.94 2.06-2.06.94z\"/><path d=\"M17.41 7.96l-1.37-1.37c-.4-.4-.92-.59-1.43-.59-.52 0-1.04.2-1.43.59L10.3 9.45l-7.72 7.72c-.78.78-.78 2.05 0 2.83L4 21.41c.39.39.9.59 1.41.59.51 0 1.02-.2 1.41-.59l7.78-7.78 2.81-2.81c.8-.78.8-2.07 0-2.86zM5.41 20L4 18.59l7.72-7.72 1.47 1.35L5.41 20z\"/>\n",
              "  </svg>\n",
              "      </button>\n",
              "      \n",
              "  <style>\n",
              "    .colab-df-container {\n",
              "      display:flex;\n",
              "      flex-wrap:wrap;\n",
              "      gap: 12px;\n",
              "    }\n",
              "\n",
              "    .colab-df-convert {\n",
              "      background-color: #E8F0FE;\n",
              "      border: none;\n",
              "      border-radius: 50%;\n",
              "      cursor: pointer;\n",
              "      display: none;\n",
              "      fill: #1967D2;\n",
              "      height: 32px;\n",
              "      padding: 0 0 0 0;\n",
              "      width: 32px;\n",
              "    }\n",
              "\n",
              "    .colab-df-convert:hover {\n",
              "      background-color: #E2EBFA;\n",
              "      box-shadow: 0px 1px 2px rgba(60, 64, 67, 0.3), 0px 1px 3px 1px rgba(60, 64, 67, 0.15);\n",
              "      fill: #174EA6;\n",
              "    }\n",
              "\n",
              "    [theme=dark] .colab-df-convert {\n",
              "      background-color: #3B4455;\n",
              "      fill: #D2E3FC;\n",
              "    }\n",
              "\n",
              "    [theme=dark] .colab-df-convert:hover {\n",
              "      background-color: #434B5C;\n",
              "      box-shadow: 0px 1px 3px 1px rgba(0, 0, 0, 0.15);\n",
              "      filter: drop-shadow(0px 1px 2px rgba(0, 0, 0, 0.3));\n",
              "      fill: #FFFFFF;\n",
              "    }\n",
              "  </style>\n",
              "\n",
              "      <script>\n",
              "        const buttonEl =\n",
              "          document.querySelector('#df-258cf892-e680-43a4-af30-5fba275f95ad button.colab-df-convert');\n",
              "        buttonEl.style.display =\n",
              "          google.colab.kernel.accessAllowed ? 'block' : 'none';\n",
              "\n",
              "        async function convertToInteractive(key) {\n",
              "          const element = document.querySelector('#df-258cf892-e680-43a4-af30-5fba275f95ad');\n",
              "          const dataTable =\n",
              "            await google.colab.kernel.invokeFunction('convertToInteractive',\n",
              "                                                     [key], {});\n",
              "          if (!dataTable) return;\n",
              "\n",
              "          const docLinkHtml = 'Like what you see? Visit the ' +\n",
              "            '<a target=\"_blank\" href=https://colab.research.google.com/notebooks/data_table.ipynb>data table notebook</a>'\n",
              "            + ' to learn more about interactive tables.';\n",
              "          element.innerHTML = '';\n",
              "          dataTable['output_type'] = 'display_data';\n",
              "          await google.colab.output.renderOutput(dataTable, element);\n",
              "          const docLink = document.createElement('div');\n",
              "          docLink.innerHTML = docLinkHtml;\n",
              "          element.appendChild(docLink);\n",
              "        }\n",
              "      </script>\n",
              "    </div>\n",
              "  </div>\n",
              "  "
            ]
          },
          "metadata": {},
          "execution_count": 181
        }
      ]
    },
    {
      "cell_type": "markdown",
      "source": [
        "## 3.2. Initial data preparation"
      ],
      "metadata": {
        "id": "KAbDj3CNmCTa"
      }
    },
    {
      "cell_type": "code",
      "source": [
        "# show duplicates\n",
        "df[df.duplicated(keep=False)]"
      ],
      "metadata": {
        "colab": {
          "base_uri": "https://localhost:8080/",
          "height": 49
        },
        "id": "xZLoVF8omWTX",
        "outputId": "d6f83983-435f-461d-bc64-d5d632f9abda"
      },
      "execution_count": null,
      "outputs": [
        {
          "output_type": "execute_result",
          "data": {
            "text/plain": [
              "Empty DataFrame\n",
              "Columns: [Attention, Meditation, Delta, Theta, LowAlpha, HighAlpha, LowBeta, HighBeta, LowGamma, HighGamma, Direction]\n",
              "Index: []"
            ],
            "text/html": [
              "\n",
              "  <div id=\"df-b051c438-8b46-4936-8ac6-c4a7e96cf9a2\">\n",
              "    <div class=\"colab-df-container\">\n",
              "      <div>\n",
              "<style scoped>\n",
              "    .dataframe tbody tr th:only-of-type {\n",
              "        vertical-align: middle;\n",
              "    }\n",
              "\n",
              "    .dataframe tbody tr th {\n",
              "        vertical-align: top;\n",
              "    }\n",
              "\n",
              "    .dataframe thead th {\n",
              "        text-align: right;\n",
              "    }\n",
              "</style>\n",
              "<table border=\"1\" class=\"dataframe\">\n",
              "  <thead>\n",
              "    <tr style=\"text-align: right;\">\n",
              "      <th></th>\n",
              "      <th>Attention</th>\n",
              "      <th>Meditation</th>\n",
              "      <th>Delta</th>\n",
              "      <th>Theta</th>\n",
              "      <th>LowAlpha</th>\n",
              "      <th>HighAlpha</th>\n",
              "      <th>LowBeta</th>\n",
              "      <th>HighBeta</th>\n",
              "      <th>LowGamma</th>\n",
              "      <th>HighGamma</th>\n",
              "      <th>Direction</th>\n",
              "    </tr>\n",
              "  </thead>\n",
              "  <tbody>\n",
              "  </tbody>\n",
              "</table>\n",
              "</div>\n",
              "      <button class=\"colab-df-convert\" onclick=\"convertToInteractive('df-b051c438-8b46-4936-8ac6-c4a7e96cf9a2')\"\n",
              "              title=\"Convert this dataframe to an interactive table.\"\n",
              "              style=\"display:none;\">\n",
              "        \n",
              "  <svg xmlns=\"http://www.w3.org/2000/svg\" height=\"24px\"viewBox=\"0 0 24 24\"\n",
              "       width=\"24px\">\n",
              "    <path d=\"M0 0h24v24H0V0z\" fill=\"none\"/>\n",
              "    <path d=\"M18.56 5.44l.94 2.06.94-2.06 2.06-.94-2.06-.94-.94-2.06-.94 2.06-2.06.94zm-11 1L8.5 8.5l.94-2.06 2.06-.94-2.06-.94L8.5 2.5l-.94 2.06-2.06.94zm10 10l.94 2.06.94-2.06 2.06-.94-2.06-.94-.94-2.06-.94 2.06-2.06.94z\"/><path d=\"M17.41 7.96l-1.37-1.37c-.4-.4-.92-.59-1.43-.59-.52 0-1.04.2-1.43.59L10.3 9.45l-7.72 7.72c-.78.78-.78 2.05 0 2.83L4 21.41c.39.39.9.59 1.41.59.51 0 1.02-.2 1.41-.59l7.78-7.78 2.81-2.81c.8-.78.8-2.07 0-2.86zM5.41 20L4 18.59l7.72-7.72 1.47 1.35L5.41 20z\"/>\n",
              "  </svg>\n",
              "      </button>\n",
              "      \n",
              "  <style>\n",
              "    .colab-df-container {\n",
              "      display:flex;\n",
              "      flex-wrap:wrap;\n",
              "      gap: 12px;\n",
              "    }\n",
              "\n",
              "    .colab-df-convert {\n",
              "      background-color: #E8F0FE;\n",
              "      border: none;\n",
              "      border-radius: 50%;\n",
              "      cursor: pointer;\n",
              "      display: none;\n",
              "      fill: #1967D2;\n",
              "      height: 32px;\n",
              "      padding: 0 0 0 0;\n",
              "      width: 32px;\n",
              "    }\n",
              "\n",
              "    .colab-df-convert:hover {\n",
              "      background-color: #E2EBFA;\n",
              "      box-shadow: 0px 1px 2px rgba(60, 64, 67, 0.3), 0px 1px 3px 1px rgba(60, 64, 67, 0.15);\n",
              "      fill: #174EA6;\n",
              "    }\n",
              "\n",
              "    [theme=dark] .colab-df-convert {\n",
              "      background-color: #3B4455;\n",
              "      fill: #D2E3FC;\n",
              "    }\n",
              "\n",
              "    [theme=dark] .colab-df-convert:hover {\n",
              "      background-color: #434B5C;\n",
              "      box-shadow: 0px 1px 3px 1px rgba(0, 0, 0, 0.15);\n",
              "      filter: drop-shadow(0px 1px 2px rgba(0, 0, 0, 0.3));\n",
              "      fill: #FFFFFF;\n",
              "    }\n",
              "  </style>\n",
              "\n",
              "      <script>\n",
              "        const buttonEl =\n",
              "          document.querySelector('#df-b051c438-8b46-4936-8ac6-c4a7e96cf9a2 button.colab-df-convert');\n",
              "        buttonEl.style.display =\n",
              "          google.colab.kernel.accessAllowed ? 'block' : 'none';\n",
              "\n",
              "        async function convertToInteractive(key) {\n",
              "          const element = document.querySelector('#df-b051c438-8b46-4936-8ac6-c4a7e96cf9a2');\n",
              "          const dataTable =\n",
              "            await google.colab.kernel.invokeFunction('convertToInteractive',\n",
              "                                                     [key], {});\n",
              "          if (!dataTable) return;\n",
              "\n",
              "          const docLinkHtml = 'Like what you see? Visit the ' +\n",
              "            '<a target=\"_blank\" href=https://colab.research.google.com/notebooks/data_table.ipynb>data table notebook</a>'\n",
              "            + ' to learn more about interactive tables.';\n",
              "          element.innerHTML = '';\n",
              "          dataTable['output_type'] = 'display_data';\n",
              "          await google.colab.output.renderOutput(dataTable, element);\n",
              "          const docLink = document.createElement('div');\n",
              "          docLink.innerHTML = docLinkHtml;\n",
              "          element.appendChild(docLink);\n",
              "        }\n",
              "      </script>\n",
              "    </div>\n",
              "  </div>\n",
              "  "
            ]
          },
          "metadata": {},
          "execution_count": 182
        }
      ]
    },
    {
      "cell_type": "code",
      "source": [
        "# descriptive statistics\n",
        "df.describe().transpose()"
      ],
      "metadata": {
        "colab": {
          "base_uri": "https://localhost:8080/",
          "height": 363
        },
        "id": "ttTEykMQtogn",
        "outputId": "0e87b630-c183-4b9d-c31d-d434d89effca"
      },
      "execution_count": null,
      "outputs": [
        {
          "output_type": "execute_result",
          "data": {
            "text/plain": [
              "            count           mean            std    min       25%      50%  \\\n",
              "Attention   672.0      53.758929      29.827446    0.0     40.00     57.0   \n",
              "Meditation  672.0      50.736607      27.033191    0.0     40.00     56.0   \n",
              "Delta       672.0  120909.605655  291278.751363  563.0  10532.50  23842.0   \n",
              "Theta       672.0   40855.255952   72519.892910  556.0  11212.00  21415.0   \n",
              "LowAlpha    672.0   14141.498512   19050.951537  229.0   4778.75   9328.5   \n",
              "HighAlpha   672.0   12314.529762   14567.358501   88.0   4512.00   8013.5   \n",
              "LowBeta     672.0    8877.650298    7714.281282  684.0   4385.25   6975.0   \n",
              "HighBeta    672.0    9144.026786    6632.100398  438.0   4598.25   7397.0   \n",
              "LowGamma    672.0    5509.666667    4437.877041  145.0   2534.00   4437.5   \n",
              "HighGamma   672.0    3039.781250    2389.673778   77.0   1569.75   2448.0   \n",
              "\n",
              "                 75%        max  \n",
              "Attention      77.00      100.0  \n",
              "Meditation     69.00      100.0  \n",
              "Delta       91729.00  2566003.0  \n",
              "Theta       39730.25  1021088.0  \n",
              "LowAlpha    17092.75   305380.0  \n",
              "HighAlpha   14212.00   161140.0  \n",
              "LowBeta     10540.00    86218.0  \n",
              "HighBeta    11618.50    40183.0  \n",
              "LowGamma     7066.00    44680.0  \n",
              "HighGamma    3865.50    28094.0  "
            ],
            "text/html": [
              "\n",
              "  <div id=\"df-92a82122-121f-4e89-baf7-f893c5dc6164\">\n",
              "    <div class=\"colab-df-container\">\n",
              "      <div>\n",
              "<style scoped>\n",
              "    .dataframe tbody tr th:only-of-type {\n",
              "        vertical-align: middle;\n",
              "    }\n",
              "\n",
              "    .dataframe tbody tr th {\n",
              "        vertical-align: top;\n",
              "    }\n",
              "\n",
              "    .dataframe thead th {\n",
              "        text-align: right;\n",
              "    }\n",
              "</style>\n",
              "<table border=\"1\" class=\"dataframe\">\n",
              "  <thead>\n",
              "    <tr style=\"text-align: right;\">\n",
              "      <th></th>\n",
              "      <th>count</th>\n",
              "      <th>mean</th>\n",
              "      <th>std</th>\n",
              "      <th>min</th>\n",
              "      <th>25%</th>\n",
              "      <th>50%</th>\n",
              "      <th>75%</th>\n",
              "      <th>max</th>\n",
              "    </tr>\n",
              "  </thead>\n",
              "  <tbody>\n",
              "    <tr>\n",
              "      <th>Attention</th>\n",
              "      <td>672.0</td>\n",
              "      <td>53.758929</td>\n",
              "      <td>29.827446</td>\n",
              "      <td>0.0</td>\n",
              "      <td>40.00</td>\n",
              "      <td>57.0</td>\n",
              "      <td>77.00</td>\n",
              "      <td>100.0</td>\n",
              "    </tr>\n",
              "    <tr>\n",
              "      <th>Meditation</th>\n",
              "      <td>672.0</td>\n",
              "      <td>50.736607</td>\n",
              "      <td>27.033191</td>\n",
              "      <td>0.0</td>\n",
              "      <td>40.00</td>\n",
              "      <td>56.0</td>\n",
              "      <td>69.00</td>\n",
              "      <td>100.0</td>\n",
              "    </tr>\n",
              "    <tr>\n",
              "      <th>Delta</th>\n",
              "      <td>672.0</td>\n",
              "      <td>120909.605655</td>\n",
              "      <td>291278.751363</td>\n",
              "      <td>563.0</td>\n",
              "      <td>10532.50</td>\n",
              "      <td>23842.0</td>\n",
              "      <td>91729.00</td>\n",
              "      <td>2566003.0</td>\n",
              "    </tr>\n",
              "    <tr>\n",
              "      <th>Theta</th>\n",
              "      <td>672.0</td>\n",
              "      <td>40855.255952</td>\n",
              "      <td>72519.892910</td>\n",
              "      <td>556.0</td>\n",
              "      <td>11212.00</td>\n",
              "      <td>21415.0</td>\n",
              "      <td>39730.25</td>\n",
              "      <td>1021088.0</td>\n",
              "    </tr>\n",
              "    <tr>\n",
              "      <th>LowAlpha</th>\n",
              "      <td>672.0</td>\n",
              "      <td>14141.498512</td>\n",
              "      <td>19050.951537</td>\n",
              "      <td>229.0</td>\n",
              "      <td>4778.75</td>\n",
              "      <td>9328.5</td>\n",
              "      <td>17092.75</td>\n",
              "      <td>305380.0</td>\n",
              "    </tr>\n",
              "    <tr>\n",
              "      <th>HighAlpha</th>\n",
              "      <td>672.0</td>\n",
              "      <td>12314.529762</td>\n",
              "      <td>14567.358501</td>\n",
              "      <td>88.0</td>\n",
              "      <td>4512.00</td>\n",
              "      <td>8013.5</td>\n",
              "      <td>14212.00</td>\n",
              "      <td>161140.0</td>\n",
              "    </tr>\n",
              "    <tr>\n",
              "      <th>LowBeta</th>\n",
              "      <td>672.0</td>\n",
              "      <td>8877.650298</td>\n",
              "      <td>7714.281282</td>\n",
              "      <td>684.0</td>\n",
              "      <td>4385.25</td>\n",
              "      <td>6975.0</td>\n",
              "      <td>10540.00</td>\n",
              "      <td>86218.0</td>\n",
              "    </tr>\n",
              "    <tr>\n",
              "      <th>HighBeta</th>\n",
              "      <td>672.0</td>\n",
              "      <td>9144.026786</td>\n",
              "      <td>6632.100398</td>\n",
              "      <td>438.0</td>\n",
              "      <td>4598.25</td>\n",
              "      <td>7397.0</td>\n",
              "      <td>11618.50</td>\n",
              "      <td>40183.0</td>\n",
              "    </tr>\n",
              "    <tr>\n",
              "      <th>LowGamma</th>\n",
              "      <td>672.0</td>\n",
              "      <td>5509.666667</td>\n",
              "      <td>4437.877041</td>\n",
              "      <td>145.0</td>\n",
              "      <td>2534.00</td>\n",
              "      <td>4437.5</td>\n",
              "      <td>7066.00</td>\n",
              "      <td>44680.0</td>\n",
              "    </tr>\n",
              "    <tr>\n",
              "      <th>HighGamma</th>\n",
              "      <td>672.0</td>\n",
              "      <td>3039.781250</td>\n",
              "      <td>2389.673778</td>\n",
              "      <td>77.0</td>\n",
              "      <td>1569.75</td>\n",
              "      <td>2448.0</td>\n",
              "      <td>3865.50</td>\n",
              "      <td>28094.0</td>\n",
              "    </tr>\n",
              "  </tbody>\n",
              "</table>\n",
              "</div>\n",
              "      <button class=\"colab-df-convert\" onclick=\"convertToInteractive('df-92a82122-121f-4e89-baf7-f893c5dc6164')\"\n",
              "              title=\"Convert this dataframe to an interactive table.\"\n",
              "              style=\"display:none;\">\n",
              "        \n",
              "  <svg xmlns=\"http://www.w3.org/2000/svg\" height=\"24px\"viewBox=\"0 0 24 24\"\n",
              "       width=\"24px\">\n",
              "    <path d=\"M0 0h24v24H0V0z\" fill=\"none\"/>\n",
              "    <path d=\"M18.56 5.44l.94 2.06.94-2.06 2.06-.94-2.06-.94-.94-2.06-.94 2.06-2.06.94zm-11 1L8.5 8.5l.94-2.06 2.06-.94-2.06-.94L8.5 2.5l-.94 2.06-2.06.94zm10 10l.94 2.06.94-2.06 2.06-.94-2.06-.94-.94-2.06-.94 2.06-2.06.94z\"/><path d=\"M17.41 7.96l-1.37-1.37c-.4-.4-.92-.59-1.43-.59-.52 0-1.04.2-1.43.59L10.3 9.45l-7.72 7.72c-.78.78-.78 2.05 0 2.83L4 21.41c.39.39.9.59 1.41.59.51 0 1.02-.2 1.41-.59l7.78-7.78 2.81-2.81c.8-.78.8-2.07 0-2.86zM5.41 20L4 18.59l7.72-7.72 1.47 1.35L5.41 20z\"/>\n",
              "  </svg>\n",
              "      </button>\n",
              "      \n",
              "  <style>\n",
              "    .colab-df-container {\n",
              "      display:flex;\n",
              "      flex-wrap:wrap;\n",
              "      gap: 12px;\n",
              "    }\n",
              "\n",
              "    .colab-df-convert {\n",
              "      background-color: #E8F0FE;\n",
              "      border: none;\n",
              "      border-radius: 50%;\n",
              "      cursor: pointer;\n",
              "      display: none;\n",
              "      fill: #1967D2;\n",
              "      height: 32px;\n",
              "      padding: 0 0 0 0;\n",
              "      width: 32px;\n",
              "    }\n",
              "\n",
              "    .colab-df-convert:hover {\n",
              "      background-color: #E2EBFA;\n",
              "      box-shadow: 0px 1px 2px rgba(60, 64, 67, 0.3), 0px 1px 3px 1px rgba(60, 64, 67, 0.15);\n",
              "      fill: #174EA6;\n",
              "    }\n",
              "\n",
              "    [theme=dark] .colab-df-convert {\n",
              "      background-color: #3B4455;\n",
              "      fill: #D2E3FC;\n",
              "    }\n",
              "\n",
              "    [theme=dark] .colab-df-convert:hover {\n",
              "      background-color: #434B5C;\n",
              "      box-shadow: 0px 1px 3px 1px rgba(0, 0, 0, 0.15);\n",
              "      filter: drop-shadow(0px 1px 2px rgba(0, 0, 0, 0.3));\n",
              "      fill: #FFFFFF;\n",
              "    }\n",
              "  </style>\n",
              "\n",
              "      <script>\n",
              "        const buttonEl =\n",
              "          document.querySelector('#df-92a82122-121f-4e89-baf7-f893c5dc6164 button.colab-df-convert');\n",
              "        buttonEl.style.display =\n",
              "          google.colab.kernel.accessAllowed ? 'block' : 'none';\n",
              "\n",
              "        async function convertToInteractive(key) {\n",
              "          const element = document.querySelector('#df-92a82122-121f-4e89-baf7-f893c5dc6164');\n",
              "          const dataTable =\n",
              "            await google.colab.kernel.invokeFunction('convertToInteractive',\n",
              "                                                     [key], {});\n",
              "          if (!dataTable) return;\n",
              "\n",
              "          const docLinkHtml = 'Like what you see? Visit the ' +\n",
              "            '<a target=\"_blank\" href=https://colab.research.google.com/notebooks/data_table.ipynb>data table notebook</a>'\n",
              "            + ' to learn more about interactive tables.';\n",
              "          element.innerHTML = '';\n",
              "          dataTable['output_type'] = 'display_data';\n",
              "          await google.colab.output.renderOutput(dataTable, element);\n",
              "          const docLink = document.createElement('div');\n",
              "          docLink.innerHTML = docLinkHtml;\n",
              "          element.appendChild(docLink);\n",
              "        }\n",
              "      </script>\n",
              "    </div>\n",
              "  </div>\n",
              "  "
            ]
          },
          "metadata": {},
          "execution_count": 183
        }
      ]
    },
    {
      "cell_type": "code",
      "source": [
        "# replace categories with numbers and save values\n",
        "# df.Direction, mapping_index = pd.factorize( df['Direction'] )\n",
        "df.loc[df.Direction == 'Up', 'Direction'] = 0\n",
        "df.loc[df.Direction == 'Down', 'Direction'] = 1\n",
        "df.loc[df.Direction == 'Right', 'Direction'] = 2\n",
        "df.loc[df.Direction == 'Left', 'Direction'] = 3\n",
        "df.head(n=3)"
      ],
      "metadata": {
        "id": "doKhAPtJmJFi",
        "colab": {
          "base_uri": "https://localhost:8080/",
          "height": 143
        },
        "outputId": "ee5b4226-1864-496f-801f-9d80d7538290"
      },
      "execution_count": null,
      "outputs": [
        {
          "output_type": "execute_result",
          "data": {
            "text/plain": [
              "   Attention  Meditation    Delta   Theta  LowAlpha  HighAlpha  LowBeta  \\\n",
              "0          0           0  1211551  158308     40565      60230    86218   \n",
              "1          0           0   872492  138722     17569      22709    39100   \n",
              "2          0           0  1123537   13235      2815      34621     3916   \n",
              "\n",
              "   HighBeta  LowGamma  HighGamma Direction  \n",
              "0     15418      7542       2469         0  \n",
              "1     11003      6746       7458         0  \n",
              "2      2358      1582       1966         0  "
            ],
            "text/html": [
              "\n",
              "  <div id=\"df-e126c836-47da-4d07-9919-af153ff58ba2\">\n",
              "    <div class=\"colab-df-container\">\n",
              "      <div>\n",
              "<style scoped>\n",
              "    .dataframe tbody tr th:only-of-type {\n",
              "        vertical-align: middle;\n",
              "    }\n",
              "\n",
              "    .dataframe tbody tr th {\n",
              "        vertical-align: top;\n",
              "    }\n",
              "\n",
              "    .dataframe thead th {\n",
              "        text-align: right;\n",
              "    }\n",
              "</style>\n",
              "<table border=\"1\" class=\"dataframe\">\n",
              "  <thead>\n",
              "    <tr style=\"text-align: right;\">\n",
              "      <th></th>\n",
              "      <th>Attention</th>\n",
              "      <th>Meditation</th>\n",
              "      <th>Delta</th>\n",
              "      <th>Theta</th>\n",
              "      <th>LowAlpha</th>\n",
              "      <th>HighAlpha</th>\n",
              "      <th>LowBeta</th>\n",
              "      <th>HighBeta</th>\n",
              "      <th>LowGamma</th>\n",
              "      <th>HighGamma</th>\n",
              "      <th>Direction</th>\n",
              "    </tr>\n",
              "  </thead>\n",
              "  <tbody>\n",
              "    <tr>\n",
              "      <th>0</th>\n",
              "      <td>0</td>\n",
              "      <td>0</td>\n",
              "      <td>1211551</td>\n",
              "      <td>158308</td>\n",
              "      <td>40565</td>\n",
              "      <td>60230</td>\n",
              "      <td>86218</td>\n",
              "      <td>15418</td>\n",
              "      <td>7542</td>\n",
              "      <td>2469</td>\n",
              "      <td>0</td>\n",
              "    </tr>\n",
              "    <tr>\n",
              "      <th>1</th>\n",
              "      <td>0</td>\n",
              "      <td>0</td>\n",
              "      <td>872492</td>\n",
              "      <td>138722</td>\n",
              "      <td>17569</td>\n",
              "      <td>22709</td>\n",
              "      <td>39100</td>\n",
              "      <td>11003</td>\n",
              "      <td>6746</td>\n",
              "      <td>7458</td>\n",
              "      <td>0</td>\n",
              "    </tr>\n",
              "    <tr>\n",
              "      <th>2</th>\n",
              "      <td>0</td>\n",
              "      <td>0</td>\n",
              "      <td>1123537</td>\n",
              "      <td>13235</td>\n",
              "      <td>2815</td>\n",
              "      <td>34621</td>\n",
              "      <td>3916</td>\n",
              "      <td>2358</td>\n",
              "      <td>1582</td>\n",
              "      <td>1966</td>\n",
              "      <td>0</td>\n",
              "    </tr>\n",
              "  </tbody>\n",
              "</table>\n",
              "</div>\n",
              "      <button class=\"colab-df-convert\" onclick=\"convertToInteractive('df-e126c836-47da-4d07-9919-af153ff58ba2')\"\n",
              "              title=\"Convert this dataframe to an interactive table.\"\n",
              "              style=\"display:none;\">\n",
              "        \n",
              "  <svg xmlns=\"http://www.w3.org/2000/svg\" height=\"24px\"viewBox=\"0 0 24 24\"\n",
              "       width=\"24px\">\n",
              "    <path d=\"M0 0h24v24H0V0z\" fill=\"none\"/>\n",
              "    <path d=\"M18.56 5.44l.94 2.06.94-2.06 2.06-.94-2.06-.94-.94-2.06-.94 2.06-2.06.94zm-11 1L8.5 8.5l.94-2.06 2.06-.94-2.06-.94L8.5 2.5l-.94 2.06-2.06.94zm10 10l.94 2.06.94-2.06 2.06-.94-2.06-.94-.94-2.06-.94 2.06-2.06.94z\"/><path d=\"M17.41 7.96l-1.37-1.37c-.4-.4-.92-.59-1.43-.59-.52 0-1.04.2-1.43.59L10.3 9.45l-7.72 7.72c-.78.78-.78 2.05 0 2.83L4 21.41c.39.39.9.59 1.41.59.51 0 1.02-.2 1.41-.59l7.78-7.78 2.81-2.81c.8-.78.8-2.07 0-2.86zM5.41 20L4 18.59l7.72-7.72 1.47 1.35L5.41 20z\"/>\n",
              "  </svg>\n",
              "      </button>\n",
              "      \n",
              "  <style>\n",
              "    .colab-df-container {\n",
              "      display:flex;\n",
              "      flex-wrap:wrap;\n",
              "      gap: 12px;\n",
              "    }\n",
              "\n",
              "    .colab-df-convert {\n",
              "      background-color: #E8F0FE;\n",
              "      border: none;\n",
              "      border-radius: 50%;\n",
              "      cursor: pointer;\n",
              "      display: none;\n",
              "      fill: #1967D2;\n",
              "      height: 32px;\n",
              "      padding: 0 0 0 0;\n",
              "      width: 32px;\n",
              "    }\n",
              "\n",
              "    .colab-df-convert:hover {\n",
              "      background-color: #E2EBFA;\n",
              "      box-shadow: 0px 1px 2px rgba(60, 64, 67, 0.3), 0px 1px 3px 1px rgba(60, 64, 67, 0.15);\n",
              "      fill: #174EA6;\n",
              "    }\n",
              "\n",
              "    [theme=dark] .colab-df-convert {\n",
              "      background-color: #3B4455;\n",
              "      fill: #D2E3FC;\n",
              "    }\n",
              "\n",
              "    [theme=dark] .colab-df-convert:hover {\n",
              "      background-color: #434B5C;\n",
              "      box-shadow: 0px 1px 3px 1px rgba(0, 0, 0, 0.15);\n",
              "      filter: drop-shadow(0px 1px 2px rgba(0, 0, 0, 0.3));\n",
              "      fill: #FFFFFF;\n",
              "    }\n",
              "  </style>\n",
              "\n",
              "      <script>\n",
              "        const buttonEl =\n",
              "          document.querySelector('#df-e126c836-47da-4d07-9919-af153ff58ba2 button.colab-df-convert');\n",
              "        buttonEl.style.display =\n",
              "          google.colab.kernel.accessAllowed ? 'block' : 'none';\n",
              "\n",
              "        async function convertToInteractive(key) {\n",
              "          const element = document.querySelector('#df-e126c836-47da-4d07-9919-af153ff58ba2');\n",
              "          const dataTable =\n",
              "            await google.colab.kernel.invokeFunction('convertToInteractive',\n",
              "                                                     [key], {});\n",
              "          if (!dataTable) return;\n",
              "\n",
              "          const docLinkHtml = 'Like what you see? Visit the ' +\n",
              "            '<a target=\"_blank\" href=https://colab.research.google.com/notebooks/data_table.ipynb>data table notebook</a>'\n",
              "            + ' to learn more about interactive tables.';\n",
              "          element.innerHTML = '';\n",
              "          dataTable['output_type'] = 'display_data';\n",
              "          await google.colab.output.renderOutput(dataTable, element);\n",
              "          const docLink = document.createElement('div');\n",
              "          docLink.innerHTML = docLinkHtml;\n",
              "          element.appendChild(docLink);\n",
              "        }\n",
              "      </script>\n",
              "    </div>\n",
              "  </div>\n",
              "  "
            ]
          },
          "metadata": {},
          "execution_count": 184
        }
      ]
    },
    {
      "cell_type": "code",
      "source": [
        "sns.heatmap(df.corr(), annot = True);"
      ],
      "metadata": {
        "colab": {
          "base_uri": "https://localhost:8080/",
          "height": 322
        },
        "id": "-U-Z3CnHtC2O",
        "outputId": "73f9fd07-571a-4ace-b323-92c429adfad0"
      },
      "execution_count": null,
      "outputs": [
        {
          "output_type": "display_data",
          "data": {
            "text/plain": [
              "<Figure size 432x288 with 2 Axes>"
            ],
            "image/png": "[encoded data removed]"
          },
          "metadata": {
            "needs_background": "light"
          }
        }
      ]
    },
    {
      "cell_type": "markdown",
      "source": [
        "**Select Features**\n",
        "\n",
        "> What do we have available?\n",
        "\n",
        "* EEG frequencies\n",
        "\n",
        "<img src=\"https://www.researchgate.net/publication/325701712/figure/fig1/AS:636909797773318@1528862537860/Brain-waves-charts-description.png\" />\n",
        "\n",
        "* Attention - level of attention on a scale from 0 to 100 (eSenseTM algorithm)\n",
        "\n",
        "* Meditation - level of meditation on a scale from 0 to 100 (eSenseTM algorithm)\n",
        "\n",
        "> Which features will we use and which ones will we not?\n",
        "\n",
        "We need columns representing wakefulness and mental activity. We will use the columns of Gamma waves, Beta, Alpha and Theta. All of the above indicate an awake - semi-awake state and active mental activity.\n",
        "We will throw out the columns \"Attention\", \"Meditation\" and \"Delta\" because they do not fit into any of the criteria we set previously or have nothing to do with the criteria."
      ],
      "metadata": {
        "id": "EGlm04KarMuo"
      }
    },
    {
      "cell_type": "code",
      "source": [
        "# drop the columns we don't need\n",
        "df.drop(columns = [\"Attention\", \"Meditation\", \"Delta\"], inplace=True)\n",
        "df.head(n=3)"
      ],
      "metadata": {
        "colab": {
          "base_uri": "https://localhost:8080/",
          "height": 143
        },
        "id": "0QOE5tYbmwXt",
        "outputId": "2d923b50-8b09-49a4-cb4d-9dae01666a6e"
      },
      "execution_count": null,
      "outputs": [
        {
          "output_type": "execute_result",
          "data": {
            "text/plain": [
              "    Theta  LowAlpha  HighAlpha  LowBeta  HighBeta  LowGamma  HighGamma  \\\n",
              "0  158308     40565      60230    86218     15418      7542       2469   \n",
              "1  138722     17569      22709    39100     11003      6746       7458   \n",
              "2   13235      2815      34621     3916      2358      1582       1966   \n",
              "\n",
              "  Direction  \n",
              "0         0  \n",
              "1         0  \n",
              "2         0  "
            ],
            "text/html": [
              "\n",
              "  <div id=\"df-028448b8-aea1-4558-9a48-b0d665762959\">\n",
              "    <div class=\"colab-df-container\">\n",
              "      <div>\n",
              "<style scoped>\n",
              "    .dataframe tbody tr th:only-of-type {\n",
              "        vertical-align: middle;\n",
              "    }\n",
              "\n",
              "    .dataframe tbody tr th {\n",
              "        vertical-align: top;\n",
              "    }\n",
              "\n",
              "    .dataframe thead th {\n",
              "        text-align: right;\n",
              "    }\n",
              "</style>\n",
              "<table border=\"1\" class=\"dataframe\">\n",
              "  <thead>\n",
              "    <tr style=\"text-align: right;\">\n",
              "      <th></th>\n",
              "      <th>Theta</th>\n",
              "      <th>LowAlpha</th>\n",
              "      <th>HighAlpha</th>\n",
              "      <th>LowBeta</th>\n",
              "      <th>HighBeta</th>\n",
              "      <th>LowGamma</th>\n",
              "      <th>HighGamma</th>\n",
              "      <th>Direction</th>\n",
              "    </tr>\n",
              "  </thead>\n",
              "  <tbody>\n",
              "    <tr>\n",
              "      <th>0</th>\n",
              "      <td>158308</td>\n",
              "      <td>40565</td>\n",
              "      <td>60230</td>\n",
              "      <td>86218</td>\n",
              "      <td>15418</td>\n",
              "      <td>7542</td>\n",
              "      <td>2469</td>\n",
              "      <td>0</td>\n",
              "    </tr>\n",
              "    <tr>\n",
              "      <th>1</th>\n",
              "      <td>138722</td>\n",
              "      <td>17569</td>\n",
              "      <td>22709</td>\n",
              "      <td>39100</td>\n",
              "      <td>11003</td>\n",
              "      <td>6746</td>\n",
              "      <td>7458</td>\n",
              "      <td>0</td>\n",
              "    </tr>\n",
              "    <tr>\n",
              "      <th>2</th>\n",
              "      <td>13235</td>\n",
              "      <td>2815</td>\n",
              "      <td>34621</td>\n",
              "      <td>3916</td>\n",
              "      <td>2358</td>\n",
              "      <td>1582</td>\n",
              "      <td>1966</td>\n",
              "      <td>0</td>\n",
              "    </tr>\n",
              "  </tbody>\n",
              "</table>\n",
              "</div>\n",
              "      <button class=\"colab-df-convert\" onclick=\"convertToInteractive('df-028448b8-aea1-4558-9a48-b0d665762959')\"\n",
              "              title=\"Convert this dataframe to an interactive table.\"\n",
              "              style=\"display:none;\">\n",
              "        \n",
              "  <svg xmlns=\"http://www.w3.org/2000/svg\" height=\"24px\"viewBox=\"0 0 24 24\"\n",
              "       width=\"24px\">\n",
              "    <path d=\"M0 0h24v24H0V0z\" fill=\"none\"/>\n",
              "    <path d=\"M18.56 5.44l.94 2.06.94-2.06 2.06-.94-2.06-.94-.94-2.06-.94 2.06-2.06.94zm-11 1L8.5 8.5l.94-2.06 2.06-.94-2.06-.94L8.5 2.5l-.94 2.06-2.06.94zm10 10l.94 2.06.94-2.06 2.06-.94-2.06-.94-.94-2.06-.94 2.06-2.06.94z\"/><path d=\"M17.41 7.96l-1.37-1.37c-.4-.4-.92-.59-1.43-.59-.52 0-1.04.2-1.43.59L10.3 9.45l-7.72 7.72c-.78.78-.78 2.05 0 2.83L4 21.41c.39.39.9.59 1.41.59.51 0 1.02-.2 1.41-.59l7.78-7.78 2.81-2.81c.8-.78.8-2.07 0-2.86zM5.41 20L4 18.59l7.72-7.72 1.47 1.35L5.41 20z\"/>\n",
              "  </svg>\n",
              "      </button>\n",
              "      \n",
              "  <style>\n",
              "    .colab-df-container {\n",
              "      display:flex;\n",
              "      flex-wrap:wrap;\n",
              "      gap: 12px;\n",
              "    }\n",
              "\n",
              "    .colab-df-convert {\n",
              "      background-color: #E8F0FE;\n",
              "      border: none;\n",
              "      border-radius: 50%;\n",
              "      cursor: pointer;\n",
              "      display: none;\n",
              "      fill: #1967D2;\n",
              "      height: 32px;\n",
              "      padding: 0 0 0 0;\n",
              "      width: 32px;\n",
              "    }\n",
              "\n",
              "    .colab-df-convert:hover {\n",
              "      background-color: #E2EBFA;\n",
              "      box-shadow: 0px 1px 2px rgba(60, 64, 67, 0.3), 0px 1px 3px 1px rgba(60, 64, 67, 0.15);\n",
              "      fill: #174EA6;\n",
              "    }\n",
              "\n",
              "    [theme=dark] .colab-df-convert {\n",
              "      background-color: #3B4455;\n",
              "      fill: #D2E3FC;\n",
              "    }\n",
              "\n",
              "    [theme=dark] .colab-df-convert:hover {\n",
              "      background-color: #434B5C;\n",
              "      box-shadow: 0px 1px 3px 1px rgba(0, 0, 0, 0.15);\n",
              "      filter: drop-shadow(0px 1px 2px rgba(0, 0, 0, 0.3));\n",
              "      fill: #FFFFFF;\n",
              "    }\n",
              "  </style>\n",
              "\n",
              "      <script>\n",
              "        const buttonEl =\n",
              "          document.querySelector('#df-028448b8-aea1-4558-9a48-b0d665762959 button.colab-df-convert');\n",
              "        buttonEl.style.display =\n",
              "          google.colab.kernel.accessAllowed ? 'block' : 'none';\n",
              "\n",
              "        async function convertToInteractive(key) {\n",
              "          const element = document.querySelector('#df-028448b8-aea1-4558-9a48-b0d665762959');\n",
              "          const dataTable =\n",
              "            await google.colab.kernel.invokeFunction('convertToInteractive',\n",
              "                                                     [key], {});\n",
              "          if (!dataTable) return;\n",
              "\n",
              "          const docLinkHtml = 'Like what you see? Visit the ' +\n",
              "            '<a target=\"_blank\" href=https://colab.research.google.com/notebooks/data_table.ipynb>data table notebook</a>'\n",
              "            + ' to learn more about interactive tables.';\n",
              "          element.innerHTML = '';\n",
              "          dataTable['output_type'] = 'display_data';\n",
              "          await google.colab.output.renderOutput(dataTable, element);\n",
              "          const docLink = document.createElement('div');\n",
              "          docLink.innerHTML = docLinkHtml;\n",
              "          element.appendChild(docLink);\n",
              "        }\n",
              "      </script>\n",
              "    </div>\n",
              "  </div>\n",
              "  "
            ]
          },
          "metadata": {},
          "execution_count": 186
        }
      ]
    },
    {
      "cell_type": "code",
      "source": [
        "# drop columns with NaN values\n",
        "df.dropna(inplace=True)"
      ],
      "metadata": {
        "id": "2LyVFKLlnDci"
      },
      "execution_count": null,
      "outputs": []
    },
    {
      "cell_type": "code",
      "source": [
        "df.isna().sum()"
      ],
      "metadata": {
        "colab": {
          "base_uri": "https://localhost:8080/"
        },
        "id": "knG4wtQfnGz5",
        "outputId": "39acb007-6f67-424b-a2e2-af5e70ec661f"
      },
      "execution_count": null,
      "outputs": [
        {
          "output_type": "execute_result",
          "data": {
            "text/plain": [
              "Theta        0\n",
              "LowAlpha     0\n",
              "HighAlpha    0\n",
              "LowBeta      0\n",
              "HighBeta     0\n",
              "LowGamma     0\n",
              "HighGamma    0\n",
              "Direction    0\n",
              "dtype: int64"
            ]
          },
          "metadata": {},
          "execution_count": 188
        }
      ]
    },
    {
      "cell_type": "markdown",
      "source": [
        "Are the categories balanced?"
      ],
      "metadata": {
        "id": "zIaZCWvcEgZj"
      }
    },
    {
      "cell_type": "code",
      "source": [
        "# up-down-right-left\n",
        "df_prop=df.groupby(\"Direction\")[\"Theta\"].count().reset_index().rename(columns={\"Theta\": \"Count\"})\n",
        "df_prop.plot(kind=\"pie\", y=\"Count\");"
      ],
      "metadata": {
        "colab": {
          "base_uri": "https://localhost:8080/",
          "height": 248
        },
        "id": "BpRyUI3Ce4mc",
        "outputId": "738a3d9a-ba34-48b5-bf76-cf2dbd290aea"
      },
      "execution_count": null,
      "outputs": [
        {
          "output_type": "display_data",
          "data": {
            "text/plain": [
              "<Figure size 432x288 with 1 Axes>"
            ],
            "image/png": "[encoded data removed]"
          },
          "metadata": {}
        }
      ]
    },
    {
      "cell_type": "markdown",
      "source": [
        "Here we see that our categories are balanced, i.e. we have an almost equal number of records (lines) for each of the categories."
      ],
      "metadata": {
        "id": "Ac1zq_Flrj_B"
      }
    },
    {
      "cell_type": "code",
      "source": [
        "df.Direction = df.Direction.astype('int')"
      ],
      "metadata": {
        "id": "Ojb9GHwR62H9"
      },
      "execution_count": null,
      "outputs": []
    },
    {
      "cell_type": "markdown",
      "source": [
        "Now we will split the data into a training set and a test set."
      ],
      "metadata": {
        "id": "0ouNmiEjrW7z"
      }
    },
    {
      "cell_type": "code",
      "source": [
        "# split large dataset\n",
        "X_train, X_test, y_train, y_test = train_test_split(df[['Theta', 'LowAlpha', 'HighAlpha',\n",
        "       'LowBeta', 'HighBeta', 'LowGamma', 'HighGamma']], df['Direction'], test_size=0.2, random_state=42)\n",
        "X_train.shape, X_test.shape, y_train.shape, y_test.shape"
      ],
      "metadata": {
        "id": "Z0KLmK_YneET",
        "colab": {
          "base_uri": "https://localhost:8080/"
        },
        "outputId": "79ad8ddc-1931-4c3c-a6a0-7cd33bb3fd9c"
      },
      "execution_count": null,
      "outputs": [
        {
          "output_type": "execute_result",
          "data": {
            "text/plain": [
              "((537, 7), (135, 7), (537,), (135,))"
            ]
          },
          "metadata": {},
          "execution_count": 191
        }
      ]
    },
    {
      "cell_type": "markdown",
      "source": [
        "## 3.3. Data scaling"
      ],
      "metadata": {
        "id": "p6u96E1mnwa5"
      }
    },
    {
      "cell_type": "markdown",
      "source": [
        "MinMax Scaler is one of the most popular scaling algorithms. Transforms features by scaling each feature to a given range, which is generally [0,1] or [-1,-1] in the case of negative values.\n",
        "At the same time, it scales the values ​​to a certain range of values ​​without changing the shape of the original distribution.\n",
        "\n",
        "<img src=\"https://miro.medium.com/v2/resize:fit:394/format:webp/0*Xxr8bx61DBmKn8B0.png\" />\n",
        "\n",
        "This scaler is the most popular scaler when it comes to EEG data."
      ],
      "metadata": {
        "id": "mx4oatZr2Xvo"
      }
    },
    {
      "cell_type": "code",
      "source": [
        "# MinMax Scaler\n",
        "scaler = MinMaxScaler()\n",
        "X_train= scaler.fit_transform(X_train)\n",
        "X_test = scaler.transform(X_test)"
      ],
      "metadata": {
        "id": "RiL-NPATnzYY"
      },
      "execution_count": null,
      "outputs": []
    },
    {
      "cell_type": "markdown",
      "source": [
        "# 4. Classification"
      ],
      "metadata": {
        "id": "AYt1X0gnoHRd"
      }
    },
    {
      "cell_type": "markdown",
      "source": [
        "## 4.1. K nearest neighbors (KNN)\n",
        "\n",
        "**Description:**\n",
        "\n",
        "The k-nearest neighbors (KNN) algorithm is a data classification method for estimating the probability that a data point will become a member of one group or another based on the group to which the data points closest to it belong.\n",
        "\n",
        "<img src=\"https://www.edureka.co/blog/wp-content/uploads/2019/03/How-does-KNN-Algorithm-work-1-KNN-Algorithm-In-R-Edureka-528x250.png\" />\n",
        "\n",
        "**Features:**\n",
        "\n",
        "* classification\n",
        "\n",
        "* supervised learning\n",
        "\n",
        "* lazy algorithm\n",
        "\n",
        "* satisfactory accuracy even on a small data set\n",
        "\n",
        "* simple interpretation\n",
        "\n",
        "**Parameters:**\n",
        "\n",
        "* n_neighbors - number of neighbors to be taken into account\n",
        "\n",
        "* weights - weight function used in prediction\n",
        "\n",
        "  * 'uniform' - all points in the neighborhood weigh the same\n",
        "\n",
        "  * 'distance' - points that are closer to the point to be classified have more weight (they are more relevant)\n",
        "\n",
        "* algorithm - the algorithm used to \"search\" for nearest neighbors\n",
        "\n",
        "  * 'ball_tree' - splits the space with circles or balls and reduces the search space (binary tree)\n",
        "\n",
        "  * 'kd_tree' - splits the space into parts with lines (binary tree) and reduces the volume of the search\n",
        "  <img src=\"https://i.ytimg.com/vi/fy40y3UFkNE/maxresdefault.jpg\" height=\"300px\" />\n",
        "\n",
        "  * 'brute' - calculates the distance to each point\n",
        "\n",
        "* metric - the metric used to calculate the distance\n",
        "\n",
        "    * 'euclidean'\n",
        "    <img src=\"https://vitalflux.com/wp-content/uploads/2020/12/Euclidean-Distance-formula-2-300x245.png\" height=\"220px\"/>\n",
        "\n",
        "    * 'manhattan'\n",
        "    <img src=\"https://d1m75rqqgidzqn.cloudfront.net/wp-data/2020/07/01130416/june-30-hierarchical-clustering-infograph-for-blog-4.png\" height=\"200px\" />\n",
        "\n",
        "    * 'cosine'\n",
        "    <img src=\"https://www.tyrrell4innovation.ca/wp-content/uploads/2021/06/rsz_jenny_du_miword.png\" height=\"300px\" />\n",
        "\n",
        "    * 'haversine'\n",
        "    <img src=\"https://images.prismic.io/sketchplanations/e1e45776-aa40-4806-820e-b5c5b8050f4b_SP+687+-+The+haversine+formula.png?auto=compress,format\" height=\"300px\" />\n",
        "\n",
        "* n_jobs - number of cores to be used for key machine learning tasks"
      ],
      "metadata": {
        "id": "4wEeW061oUdf"
      }
    },
    {
      "cell_type": "code",
      "source": [
        "#data\n",
        "error1 = []\n",
        "error2 = []\n",
        "\n",
        "for k in range(1,20):\n",
        "    knn = KNeighborsClassifier(n_neighbors=k)\n",
        "\n",
        "    knn.fit(X_train, y_train)\n",
        "\n",
        "    y_pred1= knn.predict(X_train)\n",
        "\n",
        "    error1.append(np.mean(y_train != y_pred1))\n",
        "\n",
        "    y_pred2= knn.predict(X_test)\n",
        "\n",
        "    error2.append(np.mean(y_test != y_pred2))\n",
        "\n",
        "print(\"Best k: \",error2.index(min(error2))+1, \" Error: \", min(error2))\n",
        "k = error2.index(min(error2))+1\n",
        "fig, ax = plt.subplots(figsize=(14, 8))\n",
        "ax.plot(range(1,20), error1, label=\"train\")\n",
        "ax.plot(range(1,20), error2, label=\"test\")\n",
        "ax.set_xlabel('k-value')\n",
        "ax.set_ylabel('error')\n",
        "ax.legend()\n",
        "ax.set_title('Error for specific k')"
      ],
      "metadata": {
        "colab": {
          "base_uri": "https://localhost:8080/",
          "height": 548
        },
        "id": "iDJ7j7f2oYMz",
        "outputId": "6a2bec35-6e9e-4eaa-d7e3-e201405f4cee"
      },
      "execution_count": null,
      "outputs": [
        {
          "output_type": "stream",
          "name": "stdout",
          "text": [
            "Best k:  19  Error:  0.5555555555555556\n"
          ]
        },
        {
          "output_type": "execute_result",
          "data": {
            "text/plain": [
              "Text(0.5, 1.0, 'Greška za određeni k')"
            ]
          },
          "metadata": {},
          "execution_count": 193
        },
        {
          "output_type": "display_data",
          "data": {
            "text/plain": [
              "<Figure size 1008x576 with 1 Axes>"
            ],
            "image/png": "[encoded data removed]"
          },
          "metadata": {
            "needs_background": "light"
          }
        }
      ]
    },
    {
      "cell_type": "code",
      "source": [
        "# initialize the classifier\n",
        "knn = KNeighborsClassifier(n_neighbors=k)"
      ],
      "metadata": {
        "id": "xrlGe7Yj-Q4G"
      },
      "execution_count": null,
      "outputs": []
    },
    {
      "cell_type": "code",
      "source": [
        "print('Parameters:\\n')\n",
        "knn.get_params()"
      ],
      "metadata": {
        "colab": {
          "base_uri": "https://localhost:8080/"
        },
        "id": "8_TxF5Jp-236",
        "outputId": "f30ae680-e5bc-46fd-eab6-3926bb20fc03"
      },
      "execution_count": null,
      "outputs": [
        {
          "output_type": "stream",
          "name": "stdout",
          "text": [
            "Parametri:\n",
            "\n"
          ]
        },
        {
          "output_type": "execute_result",
          "data": {
            "text/plain": [
              "{'algorithm': 'auto',\n",
              " 'leaf_size': 30,\n",
              " 'metric': 'minkowski',\n",
              " 'metric_params': None,\n",
              " 'n_jobs': None,\n",
              " 'n_neighbors': 19,\n",
              " 'p': 2,\n",
              " 'weights': 'uniform'}"
            ]
          },
          "metadata": {},
          "execution_count": 195
        }
      ]
    },
    {
      "cell_type": "code",
      "source": [
        "knn.fit(X_train, y_train)"
      ],
      "metadata": {
        "colab": {
          "base_uri": "https://localhost:8080/",
          "height": 74
        },
        "id": "ZrRs4Jdy-8S4",
        "outputId": "85eddbc4-9e9c-4822-baa7-7772f0487c8c"
      },
      "execution_count": null,
      "outputs": [
        {
          "output_type": "execute_result",
          "data": {
            "text/plain": [
              "KNeighborsClassifier(n_neighbors=19)"
            ],
            "text/html": [
              "<style>#sk-container-id-7 {color: black;background-color: white;}#sk-container-id-7 pre{padding: 0;}#sk-container-id-7 div.sk-toggleable {background-color: white;}#sk-container-id-7 label.sk-toggleable__label {cursor: pointer;display: block;width: 100%;margin-bottom: 0;padding: 0.3em;box-sizing: border-box;text-align: center;}#sk-container-id-7 label.sk-toggleable__label-arrow:before {content: \"▸\";float: left;margin-right: 0.25em;color: #696969;}#sk-container-id-7 label.sk-toggleable__label-arrow:hover:before {color: black;}#sk-container-id-7 div.sk-estimator:hover label.sk-toggleable__label-arrow:before {color: black;}#sk-container-id-7 div.sk-toggleable__content {max-height: 0;max-width: 0;overflow: hidden;text-align: left;background-color: #f0f8ff;}#sk-container-id-7 div.sk-toggleable__content pre {margin: 0.2em;color: black;border-radius: 0.25em;background-color: #f0f8ff;}#sk-container-id-7 input.sk-toggleable__control:checked~div.sk-toggleable__content {max-height: 200px;max-width: 100%;overflow: auto;}#sk-container-id-7 input.sk-toggleable__control:checked~label.sk-toggleable__label-arrow:before {content: \"▾\";}#sk-container-id-7 div.sk-estimator input.sk-toggleable__control:checked~label.sk-toggleable__label {background-color: #d4ebff;}#sk-container-id-7 div.sk-label input.sk-toggleable__control:checked~label.sk-toggleable__label {background-color: #d4ebff;}#sk-container-id-7 input.sk-hidden--visually {border: 0;clip: rect(1px 1px 1px 1px);clip: rect(1px, 1px, 1px, 1px);height: 1px;margin: -1px;overflow: hidden;padding: 0;position: absolute;width: 1px;}#sk-container-id-7 div.sk-estimator {font-family: monospace;background-color: #f0f8ff;border: 1px dotted black;border-radius: 0.25em;box-sizing: border-box;margin-bottom: 0.5em;}#sk-container-id-7 div.sk-estimator:hover {background-color: #d4ebff;}#sk-container-id-7 div.sk-parallel-item::after {content: \"\";width: 100%;border-bottom: 1px solid gray;flex-grow: 1;}#sk-container-id-7 div.sk-label:hover label.sk-toggleable__label {background-color: #d4ebff;}#sk-container-id-7 div.sk-serial::before {content: \"\";position: absolute;border-left: 1px solid gray;box-sizing: border-box;top: 0;bottom: 0;left: 50%;z-index: 0;}#sk-container-id-7 div.sk-serial {display: flex;flex-direction: column;align-items: center;background-color: white;padding-right: 0.2em;padding-left: 0.2em;position: relative;}#sk-container-id-7 div.sk-item {position: relative;z-index: 1;}#sk-container-id-7 div.sk-parallel {display: flex;align-items: stretch;justify-content: center;background-color: white;position: relative;}#sk-container-id-7 div.sk-item::before, #sk-container-id-7 div.sk-parallel-item::before {content: \"\";position: absolute;border-left: 1px solid gray;box-sizing: border-box;top: 0;bottom: 0;left: 50%;z-index: -1;}#sk-container-id-7 div.sk-parallel-item {display: flex;flex-direction: column;z-index: 1;position: relative;background-color: white;}#sk-container-id-7 div.sk-parallel-item:first-child::after {align-self: flex-end;width: 50%;}#sk-container-id-7 div.sk-parallel-item:last-child::after {align-self: flex-start;width: 50%;}#sk-container-id-7 div.sk-parallel-item:only-child::after {width: 0;}#sk-container-id-7 div.sk-dashed-wrapped {border: 1px dashed gray;margin: 0 0.4em 0.5em 0.4em;box-sizing: border-box;padding-bottom: 0.4em;background-color: white;}#sk-container-id-7 div.sk-label label {font-family: monospace;font-weight: bold;display: inline-block;line-height: 1.2em;}#sk-container-id-7 div.sk-label-container {text-align: center;}#sk-container-id-7 div.sk-container {/* jupyter's `normalize.less` sets `[hidden] { display: none; }` but bootstrap.min.css set `[hidden] { display: none !important; }` so we also need the `!important` here to be able to override the default hidden behavior on the sphinx rendered scikit-learn.org. See: https://github.com/scikit-learn/scikit-learn/issues/21755 */display: inline-block !important;position: relative;}#sk-container-id-7 div.sk-text-repr-fallback {display: none;}</style><div id=\"sk-container-id-7\" class=\"sk-top-container\"><div class=\"sk-text-repr-fallback\"><pre>KNeighborsClassifier(n_neighbors=19)</pre><b>In a Jupyter environment, please rerun this cell to show the HTML representation or trust the notebook. <br />On GitHub, the HTML representation is unable to render, please try loading this page with nbviewer.org.</b></div><div class=\"sk-container\" hidden><div class=\"sk-item\"><div class=\"sk-estimator sk-toggleable\"><input class=\"sk-toggleable__control sk-hidden--visually\" id=\"sk-estimator-id-13\" type=\"checkbox\" checked><label for=\"sk-estimator-id-13\" class=\"sk-toggleable__label sk-toggleable__label-arrow\">KNeighborsClassifier</label><div class=\"sk-toggleable__content\"><pre>KNeighborsClassifier(n_neighbors=19)</pre></div></div></div></div></div>"
            ]
          },
          "metadata": {},
          "execution_count": 196
        }
      ]
    },
    {
      "cell_type": "code",
      "source": [
        "# prediction\n",
        "y_pred = knn.predict(X_test)\n",
        "print('Accuracy (test): ', accuracy_score(y_pred, y_test))"
      ],
      "metadata": {
        "colab": {
          "base_uri": "https://localhost:8080/"
        },
        "id": "XOw9bDK1_EO4",
        "outputId": "f8ad2cb1-49ee-42e1-ff86-8e61dece9003"
      },
      "execution_count": null,
      "outputs": [
        {
          "output_type": "stream",
          "name": "stdout",
          "text": [
            "točnost (test):  0.4444444444444444\n"
          ]
        }
      ]
    },
    {
      "cell_type": "code",
      "source": [
        "# confusion matrix\n",
        "confusionMTRX = confusion_matrix(y_test, y_pred)"
      ],
      "metadata": {
        "id": "ulfAgpcd_JS_"
      },
      "execution_count": null,
      "outputs": []
    },
    {
      "cell_type": "code",
      "source": [
        "# confusion matrix display\n",
        "disp = ConfusionMatrixDisplay(confusion_matrix=confusionMTRX)\n",
        "disp.plot()\n",
        "plt.show()"
      ],
      "metadata": {
        "colab": {
          "base_uri": "https://localhost:8080/",
          "height": 283
        },
        "id": "WH2xvviJ_L_D",
        "outputId": "8c2a12c8-b065-4370-80c5-4dd1f89fbc46"
      },
      "execution_count": null,
      "outputs": [
        {
          "output_type": "display_data",
          "data": {
            "text/plain": [
              "<Figure size 432x288 with 2 Axes>"
            ],
            "image/png": "[encoded data removed]"
          },
          "metadata": {
            "needs_background": "light"
          }
        }
      ]
    },
    {
      "cell_type": "markdown",
      "source": [
        "Here we see that knn does not give us a very good accuracy, but it classified the most examples in the class to which it belongs."
      ],
      "metadata": {
        "id": "IfUfa3PdJl8X"
      }
    },
    {
      "cell_type": "code",
      "source": [
        "# save the model\n",
        "dump(knn, 'eeg_knn_01.joblib')"
      ],
      "metadata": {
        "id": "FkTLU4Du_NgM",
        "colab": {
          "base_uri": "https://localhost:8080/"
        },
        "outputId": "28fcb8e8-0d1a-4cee-d911-980f05152e40"
      },
      "execution_count": null,
      "outputs": [
        {
          "output_type": "execute_result",
          "data": {
            "text/plain": [
              "['eeg_knn_01.joblib']"
            ]
          },
          "metadata": {},
          "execution_count": 200
        }
      ]
    },
    {
      "cell_type": "markdown",
      "source": [
        "## 4.2. Support Vector Machine (SVM)\n",
        "\n",
        "**Description:**\n",
        "\n",
        "Support Vector Machine (SVM) is a supervised machine learning algorithm commonly used for classification, designed primarily for binary classification. It can also be used for multiclass classification. SVM works by attempting to correctly classify as many instances as possible from the training dataset - by adjusting parameters that define the boundary between classes. The boundary between classes in a *linear* SVM is a hyperplane, while in SVM algorithms using other functions, it is a nonlinear surface. Thus, SVM draws a boundary (decision boundary) between the classes it learns to separate. It selects a hyperplane that maximizes the margin (classification strictness), meaning the greatest distance between data points. Data points or vectors closest to the hyperplane and influencing its position are called support vectors because they \"support the plane\".\n",
        "\n",
        "<img src=\"http://res.cloudinary.com/dyd911kmh/image/upload/f_auto,q_auto:best/v1526288453/index3_souoaz.png\" height=\"300px\" />\n",
        "\n",
        "When dealing with multiclass classification, in terms of SVM, we can approach the problem in two ways:\n",
        "\n",
        "* *One-vs-Rest* approach (OvR) - one class against the rest of the classes, e.g., if we classify fruits (apple, banana, pear) using this approach, the classification would look like this:\n",
        "\n",
        "  * apple vs. [banana, pear]\n",
        "  * banana vs. [apple, pear]\n",
        "  * pear vs. [apple, banana]\n",
        "\n",
        "  This approach requires each model to predict the probability of belonging to a class or a result similar to probability. The argmax of these results (the index of the class with the highest result) is then used for class prediction. OvR is mainly used when dealing with imbalanced data and small datasets.\n",
        "\n",
        "<img src=\"http://windmissing.github.io/images/2019/186.jpg\" height=\"200px\" />\n",
        "\n",
        "* *One-vs-One* approach (OvO) - one class against another class. In this method, each class will be paired one by one with every other class. At the end of the classification training, each classification gets one vote for the winning class. The highest number of votes will determine to which class the test dataset belongs. For example, if we classify fruits (apple, banana, pear) using this approach, the classification would look like this:\n",
        "\n",
        "  * apple vs. banana\n",
        "  * apple vs. pear\n",
        "  * banana vs. pear\n",
        "\n",
        "<img src=\"http://windmissing.github.io/images/2019/187.jpg\" height=\"200px\" />\n",
        "\n",
        "**Features:**\n",
        "\n",
        "* classification\n",
        "* supervised learning\n",
        "* eager learning\n",
        "* robust\n",
        "* simple interpretation\n",
        "\n",
        "**Parameters:**\n",
        "\n",
        "* C - penalty parameter or error, i.e., C adds penalty to each misclassified \"point\"\n",
        "  * If the value of C is small, then the penalty for misclassified points is also small, resulting in a larger margin based boundary\n",
        "  * If the value of C is large, then SVM attempts to minimize the number of misclassified points by reducing the margin width\n",
        "\n",
        "<img src=\"https://training.atmosera.com/wp-content/uploads/2021/07/c-margins-1.png\" height=\"300px\" />\n",
        "\n",
        "* kernel - is a function that takes low-dimensional input space and transforms it into a higher-dimensional space, i.e., it converts an inseparable problem into a separable problem. It is mainly useful in problems of nonlinear separation. Simply put, the kernel performs some extremely complex data transformations, then finds a process to separate the data based on defined labels or outputs.\n",
        "\n",
        "<img src=\"https://miro.medium.com/max/1400/1*mCwnu5kXot6buL7jeIafqQ.png\" height=\"200px\" />\n",
        "\n",
        "  * 'linear' - used when data is linearly separable, i.e., can be separated using a single line. It is one of the most common kernels used. It is mostly used when there is a large number of features in a specific dataset. One example where there are many features is text classification, as each letter is a new feature. Therefore, we mostly use a linear kernel in text classification.\n",
        "  * 'poly' - a type of SVM kernel that uses a polynomial function to map data into a higher-dimensional space. It does this by taking the scalar product of data points in the original space and polynomial functions in the new space. It is popular in image processing.\n",
        "  * 'rbf' - short for \"Radial Basis Function Kernel\" is a very powerful kernel used in SVM. Unlike linear or polynomial kernels, RBF is more complex and efficient at the same time because it can combine multiple polynomial kernels of different degrees multiple times to project nonlinearly separable data into a higher-dimensional space so that it can be separated using a hyperplane. RBF kernel maps data into a high-dimensional space by finding scalar products and squares of all features in the dataset and then performing classification using the basic idea of linear SVM. It is good to use when we have no prior knowledge about the data.\n",
        "  * 'sigmoid' - was theoretically proposed for SVM as it originates from neural networks, but has not been widely used in practice so far. As the sigmoid function performs well in neural networks and some other algorithms, it has been suggested to use it here as well. One reason it is rarely used is because it is difficult to adjust the parameters for good results.\n",
        "\n",
        "<img src=\"https://miro.medium.com/max/1400/1*qZFPN60NvwbFE_tRg2YPoQ.png\" height=\"300px\" />\n",
        "\n",
        "* degree - is a parameter that we set when our kernel is \"poly\". It actually represents the degree of the polynomial, and just like with polynomial regression, a high degree of the polynomial can lead to overfitting.\n",
        "\n",
        "* gamma - is a parameter used with \"poly\" and \"rbf\" kernels. The gamma parameter defines how far the influence of one training example reaches, with low values meaning \"far\" (large radius), resulting in a larger number of clustered points. High values mean \"close\" (small radius), resulting in a smaller number of clustered points, i.e., points must be very close to each other to be clustered. Lower gamma values result in models with lower accuracy, as well as higher gamma values. Medium gamma values provide a model with good decision boundaries.\n",
        "\n",
        "<img src=\"https://i.imgur.com/lURJeuA.png\" height=\"200px\" />"
      ],
      "metadata": {
        "id": "R0Sj-Z8__wqO"
      }
    },
    {
      "cell_type": "code",
      "source": [
        "params_grid = [{'kernel': ['linear'], 'C': [0.1, 1, 10, 100]},\n",
        "               {'kernel': ['rbf'], 'C': [0.1, 1, 10, 100, 150, 200], \"gamma\": [0.05, 0.1, 0.5, 0.7, 0.9]},\n",
        "               {'kernel': ['poly'], 'degree': [2,3,5], 'C': [0.1, 1, 10], \"gamma\": [0.05, 0.1, 0.5]},\n",
        "               {'kernel': ['sigmoid'], 'C': [0.1, 1, 10, 100, 1000]}\n",
        "              ]"
      ],
      "metadata": {
        "id": "S6GPRehTAUWw"
      },
      "execution_count": null,
      "outputs": []
    },
    {
      "cell_type": "code",
      "source": [
        "svc = svm.SVC()"
      ],
      "metadata": {
        "id": "1Chauu__ChVQ"
      },
      "execution_count": null,
      "outputs": []
    },
    {
      "cell_type": "code",
      "source": [
        "svm_model_ovo = GridSearchCV(svc, params_grid, verbose=2, cv=5)\n",
        "svm_model_ovo.fit(X_train, y_train)"
      ],
      "metadata": {
        "id": "QqOm2f0TFx0w",
        "colab": {
          "base_uri": "https://localhost:8080/",
          "height": 1000
        },
        "outputId": "f47747cc-0be7-45b6-89f4-f8dcd8b17aa7"
      },
      "execution_count": null,
      "outputs": [
        {
          "output_type": "stream",
          "name": "stdout",
          "text": [
            "Fitting 5 folds for each of 66 candidates, totalling 330 fits\n",
            "[CV] END ...............................C=0.1, kernel=linear; total time=   0.0s\n",
            "[CV] END ...............................C=0.1, kernel=linear; total time=   0.0s\n",
            "[CV] END ...............................C=0.1, kernel=linear; total time=   0.0s\n",
            "[CV] END ...............................C=0.1, kernel=linear; total time=   0.0s\n",
            "[CV] END ...............................C=0.1, kernel=linear; total time=   0.0s\n",
            "[CV] END .................................C=1, kernel=linear; total time=   0.0s\n",
            "[CV] END .................................C=1, kernel=linear; total time=   0.0s\n",
            "[CV] END .................................C=1, kernel=linear; total time=   0.0s\n",
            "[CV] END .................................C=1, kernel=linear; total time=   0.0s\n",
            "[CV] END .................................C=1, kernel=linear; total time=   0.0s\n",
            "[CV] END ................................C=10, kernel=linear; total time=   0.0s\n",
            "[CV] END ................................C=10, kernel=linear; total time=   0.0s\n",
            "[CV] END ................................C=10, kernel=linear; total time=   0.0s\n",
            "[CV] END ................................C=10, kernel=linear; total time=   0.0s\n",
            "[CV] END ................................C=10, kernel=linear; total time=   0.0s\n",
            "[CV] END ...............................C=100, kernel=linear; total time=   0.0s\n",
            "[CV] END ...............................C=100, kernel=linear; total time=   0.0s\n",
            "[CV] END ...............................C=100, kernel=linear; total time=   0.0s\n",
            "[CV] END ...............................C=100, kernel=linear; total time=   0.0s\n",
            "[CV] END ...............................C=100, kernel=linear; total time=   0.0s\n",
            "[CV] END ......................C=0.1, gamma=0.05, kernel=rbf; total time=   0.0s\n",
            "[CV] END ......................C=0.1, gamma=0.05, kernel=rbf; total time=   0.0s\n",
            "[CV] END ......................C=0.1, gamma=0.05, kernel=rbf; total time=   0.0s\n",
            "[CV] END ......................C=0.1, gamma=0.05, kernel=rbf; total time=   0.0s\n",
            "[CV] END ......................C=0.1, gamma=0.05, kernel=rbf; total time=   0.0s\n",
            "[CV] END .......................C=0.1, gamma=0.1, kernel=rbf; total time=   0.0s\n",
            "[CV] END .......................C=0.1, gamma=0.1, kernel=rbf; total time=   0.0s\n",
            "[CV] END .......................C=0.1, gamma=0.1, kernel=rbf; total time=   0.0s\n",
            "[CV] END .......................C=0.1, gamma=0.1, kernel=rbf; total time=   0.0s\n",
            "[CV] END .......................C=0.1, gamma=0.1, kernel=rbf; total time=   0.0s\n",
            "[CV] END .......................C=0.1, gamma=0.5, kernel=rbf; total time=   0.0s\n",
            "[CV] END .......................C=0.1, gamma=0.5, kernel=rbf; total time=   0.0s\n",
            "[CV] END .......................C=0.1, gamma=0.5, kernel=rbf; total time=   0.0s\n",
            "[CV] END .......................C=0.1, gamma=0.5, kernel=rbf; total time=   0.0s\n",
            "[CV] END .......................C=0.1, gamma=0.5, kernel=rbf; total time=   0.0s\n",
            "[CV] END .......................C=0.1, gamma=0.7, kernel=rbf; total time=   0.0s\n",
            "[CV] END .......................C=0.1, gamma=0.7, kernel=rbf; total time=   0.0s\n",
            "[CV] END .......................C=0.1, gamma=0.7, kernel=rbf; total time=   0.0s\n",
            "[CV] END .......................C=0.1, gamma=0.7, kernel=rbf; total time=   0.0s\n",
            "[CV] END .......................C=0.1, gamma=0.7, kernel=rbf; total time=   0.0s\n",
            "[CV] END .......................C=0.1, gamma=0.9, kernel=rbf; total time=   0.0s\n",
            "[CV] END .......................C=0.1, gamma=0.9, kernel=rbf; total time=   0.0s\n",
            "[CV] END .......................C=0.1, gamma=0.9, kernel=rbf; total time=   0.0s\n",
            "[CV] END .......................C=0.1, gamma=0.9, kernel=rbf; total time=   0.0s\n",
            "[CV] END .......................C=0.1, gamma=0.9, kernel=rbf; total time=   0.0s\n",
            "[CV] END ........................C=1, gamma=0.05, kernel=rbf; total time=   0.0s\n",
            "[CV] END ........................C=1, gamma=0.05, kernel=rbf; total time=   0.0s\n",
            "[CV] END ........................C=1, gamma=0.05, kernel=rbf; total time=   0.0s\n",
            "[CV] END ........................C=1, gamma=0.05, kernel=rbf; total time=   0.0s\n",
            "[CV] END ........................C=1, gamma=0.05, kernel=rbf; total time=   0.0s\n",
            "[CV] END .........................C=1, gamma=0.1, kernel=rbf; total time=   0.0s\n",
            "[CV] END .........................C=1, gamma=0.1, kernel=rbf; total time=   0.0s\n",
            "[CV] END .........................C=1, gamma=0.1, kernel=rbf; total time=   0.0s\n",
            "[CV] END .........................C=1, gamma=0.1, kernel=rbf; total time=   0.0s\n",
            "[CV] END .........................C=1, gamma=0.1, kernel=rbf; total time=   0.0s\n",
            "[CV] END .........................C=1, gamma=0.5, kernel=rbf; total time=   0.0s\n",
            "[CV] END .........................C=1, gamma=0.5, kernel=rbf; total time=   0.0s\n",
            "[CV] END .........................C=1, gamma=0.5, kernel=rbf; total time=   0.0s\n",
            "[CV] END .........................C=1, gamma=0.5, kernel=rbf; total time=   0.0s\n",
            "[CV] END .........................C=1, gamma=0.5, kernel=rbf; total time=   0.0s\n",
            "[CV] END .........................C=1, gamma=0.7, kernel=rbf; total time=   0.0s\n",
            "[CV] END .........................C=1, gamma=0.7, kernel=rbf; total time=   0.0s\n",
            "[CV] END .........................C=1, gamma=0.7, kernel=rbf; total time=   0.0s\n",
            "[CV] END .........................C=1, gamma=0.7, kernel=rbf; total time=   0.0s\n",
            "[CV] END .........................C=1, gamma=0.7, kernel=rbf; total time=   0.0s\n",
            "[CV] END .........................C=1, gamma=0.9, kernel=rbf; total time=   0.0s\n",
            "[CV] END .........................C=1, gamma=0.9, kernel=rbf; total time=   0.0s\n",
            "[CV] END .........................C=1, gamma=0.9, kernel=rbf; total time=   0.0s\n",
            "[CV] END .........................C=1, gamma=0.9, kernel=rbf; total time=   0.0s\n",
            "[CV] END .........................C=1, gamma=0.9, kernel=rbf; total time=   0.0s\n",
            "[CV] END .......................C=10, gamma=0.05, kernel=rbf; total time=   0.0s\n",
            "[CV] END .......................C=10, gamma=0.05, kernel=rbf; total time=   0.0s\n",
            "[CV] END .......................C=10, gamma=0.05, kernel=rbf; total time=   0.0s\n",
            "[CV] END .......................C=10, gamma=0.05, kernel=rbf; total time=   0.0s\n",
            "[CV] END .......................C=10, gamma=0.05, kernel=rbf; total time=   0.0s\n",
            "[CV] END ........................C=10, gamma=0.1, kernel=rbf; total time=   0.0s\n",
            "[CV] END ........................C=10, gamma=0.1, kernel=rbf; total time=   0.0s\n",
            "[CV] END ........................C=10, gamma=0.1, kernel=rbf; total time=   0.0s\n",
            "[CV] END ........................C=10, gamma=0.1, kernel=rbf; total time=   0.0s\n",
            "[CV] END ........................C=10, gamma=0.1, kernel=rbf; total time=   0.0s\n",
            "[CV] END ........................C=10, gamma=0.5, kernel=rbf; total time=   0.0s\n",
            "[CV] END ........................C=10, gamma=0.5, kernel=rbf; total time=   0.0s\n",
            "[CV] END ........................C=10, gamma=0.5, kernel=rbf; total time=   0.0s\n",
            "[CV] END ........................C=10, gamma=0.5, kernel=rbf; total time=   0.0s\n",
            "[CV] END ........................C=10, gamma=0.5, kernel=rbf; total time=   0.0s\n",
            "[CV] END ........................C=10, gamma=0.7, kernel=rbf; total time=   0.0s\n",
            "[CV] END ........................C=10, gamma=0.7, kernel=rbf; total time=   0.0s\n",
            "[CV] END ........................C=10, gamma=0.7, kernel=rbf; total time=   0.0s\n",
            "[CV] END ........................C=10, gamma=0.7, kernel=rbf; total time=   0.0s\n",
            "[CV] END ........................C=10, gamma=0.7, kernel=rbf; total time=   0.0s\n",
            "[CV] END ........................C=10, gamma=0.9, kernel=rbf; total time=   0.0s\n",
            "[CV] END ........................C=10, gamma=0.9, kernel=rbf; total time=   0.0s\n",
            "[CV] END ........................C=10, gamma=0.9, kernel=rbf; total time=   0.0s\n",
            "[CV] END ........................C=10, gamma=0.9, kernel=rbf; total time=   0.0s\n",
            "[CV] END ........................C=10, gamma=0.9, kernel=rbf; total time=   0.0s\n",
            "[CV] END ......................C=100, gamma=0.05, kernel=rbf; total time=   0.0s\n",
            "[CV] END ......................C=100, gamma=0.05, kernel=rbf; total time=   0.0s\n",
            "[CV] END ......................C=100, gamma=0.05, kernel=rbf; total time=   0.0s\n",
            "[CV] END ......................C=100, gamma=0.05, kernel=rbf; total time=   0.0s\n",
            "[CV] END ......................C=100, gamma=0.05, kernel=rbf; total time=   0.0s\n",
            "[CV] END .......................C=100, gamma=0.1, kernel=rbf; total time=   0.0s\n",
            "[CV] END .......................C=100, gamma=0.1, kernel=rbf; total time=   0.0s\n",
            "[CV] END .......................C=100, gamma=0.1, kernel=rbf; total time=   0.0s\n",
            "[CV] END .......................C=100, gamma=0.1, kernel=rbf; total time=   0.0s\n",
            "[CV] END .......................C=100, gamma=0.1, kernel=rbf; total time=   0.0s\n",
            "[CV] END .......................C=100, gamma=0.5, kernel=rbf; total time=   0.0s\n",
            "[CV] END .......................C=100, gamma=0.5, kernel=rbf; total time=   0.0s\n",
            "[CV] END .......................C=100, gamma=0.5, kernel=rbf; total time=   0.0s\n",
            "[CV] END .......................C=100, gamma=0.5, kernel=rbf; total time=   0.0s\n",
            "[CV] END .......................C=100, gamma=0.5, kernel=rbf; total time=   0.0s\n",
            "[CV] END .......................C=100, gamma=0.7, kernel=rbf; total time=   0.0s\n",
            "[CV] END .......................C=100, gamma=0.7, kernel=rbf; total time=   0.0s\n",
            "[CV] END .......................C=100, gamma=0.7, kernel=rbf; total time=   0.0s\n",
            "[CV] END .......................C=100, gamma=0.7, kernel=rbf; total time=   0.0s\n",
            "[CV] END .......................C=100, gamma=0.7, kernel=rbf; total time=   0.0s\n",
            "[CV] END .......................C=100, gamma=0.9, kernel=rbf; total time=   0.0s\n",
            "[CV] END .......................C=100, gamma=0.9, kernel=rbf; total time=   0.0s\n",
            "[CV] END .......................C=100, gamma=0.9, kernel=rbf; total time=   0.0s\n",
            "[CV] END .......................C=100, gamma=0.9, kernel=rbf; total time=   0.0s\n",
            "[CV] END .......................C=100, gamma=0.9, kernel=rbf; total time=   0.0s\n",
            "[CV] END ......................C=150, gamma=0.05, kernel=rbf; total time=   0.0s\n",
            "[CV] END ......................C=150, gamma=0.05, kernel=rbf; total time=   0.0s\n",
            "[CV] END ......................C=150, gamma=0.05, kernel=rbf; total time=   0.0s\n",
            "[CV] END ......................C=150, gamma=0.05, kernel=rbf; total time=   0.0s\n",
            "[CV] END ......................C=150, gamma=0.05, kernel=rbf; total time=   0.0s\n",
            "[CV] END .......................C=150, gamma=0.1, kernel=rbf; total time=   0.0s\n",
            "[CV] END .......................C=150, gamma=0.1, kernel=rbf; total time=   0.0s\n",
            "[CV] END .......................C=150, gamma=0.1, kernel=rbf; total time=   0.0s\n",
            "[CV] END .......................C=150, gamma=0.1, kernel=rbf; total time=   0.0s\n",
            "[CV] END .......................C=150, gamma=0.1, kernel=rbf; total time=   0.0s\n",
            "[CV] END .......................C=150, gamma=0.5, kernel=rbf; total time=   0.0s\n",
            "[CV] END .......................C=150, gamma=0.5, kernel=rbf; total time=   0.0s\n",
            "[CV] END .......................C=150, gamma=0.5, kernel=rbf; total time=   0.0s\n",
            "[CV] END .......................C=150, gamma=0.5, kernel=rbf; total time=   0.0s\n",
            "[CV] END .......................C=150, gamma=0.5, kernel=rbf; total time=   0.0s\n",
            "[CV] END .......................C=150, gamma=0.7, kernel=rbf; total time=   0.0s\n",
            "[CV] END .......................C=150, gamma=0.7, kernel=rbf; total time=   0.0s\n",
            "[CV] END .......................C=150, gamma=0.7, kernel=rbf; total time=   0.0s\n",
            "[CV] END .......................C=150, gamma=0.7, kernel=rbf; total time=   0.0s\n",
            "[CV] END .......................C=150, gamma=0.7, kernel=rbf; total time=   0.0s\n",
            "[CV] END .......................C=150, gamma=0.9, kernel=rbf; total time=   0.0s\n",
            "[CV] END .......................C=150, gamma=0.9, kernel=rbf; total time=   0.0s\n",
            "[CV] END .......................C=150, gamma=0.9, kernel=rbf; total time=   0.0s\n",
            "[CV] END .......................C=150, gamma=0.9, kernel=rbf; total time=   0.0s\n",
            "[CV] END .......................C=150, gamma=0.9, kernel=rbf; total time=   0.0s\n",
            "[CV] END ......................C=200, gamma=0.05, kernel=rbf; total time=   0.0s\n",
            "[CV] END ......................C=200, gamma=0.05, kernel=rbf; total time=   0.0s\n",
            "[CV] END ......................C=200, gamma=0.05, kernel=rbf; total time=   0.0s\n",
            "[CV] END ......................C=200, gamma=0.05, kernel=rbf; total time=   0.0s\n",
            "[CV] END ......................C=200, gamma=0.05, kernel=rbf; total time=   0.0s\n",
            "[CV] END .......................C=200, gamma=0.1, kernel=rbf; total time=   0.0s\n",
            "[CV] END .......................C=200, gamma=0.1, kernel=rbf; total time=   0.0s\n",
            "[CV] END .......................C=200, gamma=0.1, kernel=rbf; total time=   0.0s\n",
            "[CV] END .......................C=200, gamma=0.1, kernel=rbf; total time=   0.0s\n",
            "[CV] END .......................C=200, gamma=0.1, kernel=rbf; total time=   0.0s\n",
            "[CV] END .......................C=200, gamma=0.5, kernel=rbf; total time=   0.0s\n",
            "[CV] END .......................C=200, gamma=0.5, kernel=rbf; total time=   0.0s\n",
            "[CV] END .......................C=200, gamma=0.5, kernel=rbf; total time=   0.0s\n",
            "[CV] END .......................C=200, gamma=0.5, kernel=rbf; total time=   0.0s\n",
            "[CV] END .......................C=200, gamma=0.5, kernel=rbf; total time=   0.0s\n",
            "[CV] END .......................C=200, gamma=0.7, kernel=rbf; total time=   0.0s\n",
            "[CV] END .......................C=200, gamma=0.7, kernel=rbf; total time=   0.0s\n",
            "[CV] END .......................C=200, gamma=0.7, kernel=rbf; total time=   0.0s\n",
            "[CV] END .......................C=200, gamma=0.7, kernel=rbf; total time=   0.0s\n",
            "[CV] END .......................C=200, gamma=0.7, kernel=rbf; total time=   0.0s\n",
            "[CV] END .......................C=200, gamma=0.9, kernel=rbf; total time=   0.0s\n",
            "[CV] END .......................C=200, gamma=0.9, kernel=rbf; total time=   0.0s\n",
            "[CV] END .......................C=200, gamma=0.9, kernel=rbf; total time=   0.0s\n",
            "[CV] END .......................C=200, gamma=0.9, kernel=rbf; total time=   0.0s\n",
            "[CV] END .......................C=200, gamma=0.9, kernel=rbf; total time=   0.0s\n",
            "[CV] END ...........C=0.1, degree=2, gamma=0.05, kernel=poly; total time=   0.0s\n",
            "[CV] END ...........C=0.1, degree=2, gamma=0.05, kernel=poly; total time=   0.0s\n",
            "[CV] END ...........C=0.1, degree=2, gamma=0.05, kernel=poly; total time=   0.0s\n",
            "[CV] END ...........C=0.1, degree=2, gamma=0.05, kernel=poly; total time=   0.0s\n",
            "[CV] END ...........C=0.1, degree=2, gamma=0.05, kernel=poly; total time=   0.0s\n",
            "[CV] END ............C=0.1, degree=2, gamma=0.1, kernel=poly; total time=   0.0s\n",
            "[CV] END ............C=0.1, degree=2, gamma=0.1, kernel=poly; total time=   0.0s\n",
            "[CV] END ............C=0.1, degree=2, gamma=0.1, kernel=poly; total time=   0.0s\n",
            "[CV] END ............C=0.1, degree=2, gamma=0.1, kernel=poly; total time=   0.0s\n",
            "[CV] END ............C=0.1, degree=2, gamma=0.1, kernel=poly; total time=   0.0s\n",
            "[CV] END ............C=0.1, degree=2, gamma=0.5, kernel=poly; total time=   0.0s\n",
            "[CV] END ............C=0.1, degree=2, gamma=0.5, kernel=poly; total time=   0.0s\n",
            "[CV] END ............C=0.1, degree=2, gamma=0.5, kernel=poly; total time=   0.0s\n",
            "[CV] END ............C=0.1, degree=2, gamma=0.5, kernel=poly; total time=   0.0s\n",
            "[CV] END ............C=0.1, degree=2, gamma=0.5, kernel=poly; total time=   0.0s\n",
            "[CV] END ...........C=0.1, degree=3, gamma=0.05, kernel=poly; total time=   0.0s\n",
            "[CV] END ...........C=0.1, degree=3, gamma=0.05, kernel=poly; total time=   0.0s\n",
            "[CV] END ...........C=0.1, degree=3, gamma=0.05, kernel=poly; total time=   0.0s\n",
            "[CV] END ...........C=0.1, degree=3, gamma=0.05, kernel=poly; total time=   0.0s\n",
            "[CV] END ...........C=0.1, degree=3, gamma=0.05, kernel=poly; total time=   0.0s\n",
            "[CV] END ............C=0.1, degree=3, gamma=0.1, kernel=poly; total time=   0.0s\n",
            "[CV] END ............C=0.1, degree=3, gamma=0.1, kernel=poly; total time=   0.0s\n",
            "[CV] END ............C=0.1, degree=3, gamma=0.1, kernel=poly; total time=   0.0s\n",
            "[CV] END ............C=0.1, degree=3, gamma=0.1, kernel=poly; total time=   0.0s\n",
            "[CV] END ............C=0.1, degree=3, gamma=0.1, kernel=poly; total time=   0.0s\n",
            "[CV] END ............C=0.1, degree=3, gamma=0.5, kernel=poly; total time=   0.0s\n",
            "[CV] END ............C=0.1, degree=3, gamma=0.5, kernel=poly; total time=   0.0s\n",
            "[CV] END ............C=0.1, degree=3, gamma=0.5, kernel=poly; total time=   0.0s\n",
            "[CV] END ............C=0.1, degree=3, gamma=0.5, kernel=poly; total time=   0.0s\n",
            "[CV] END ............C=0.1, degree=3, gamma=0.5, kernel=poly; total time=   0.0s\n",
            "[CV] END ...........C=0.1, degree=5, gamma=0.05, kernel=poly; total time=   0.0s\n",
            "[CV] END ...........C=0.1, degree=5, gamma=0.05, kernel=poly; total time=   0.0s\n",
            "[CV] END ...........C=0.1, degree=5, gamma=0.05, kernel=poly; total time=   0.0s\n",
            "[CV] END ...........C=0.1, degree=5, gamma=0.05, kernel=poly; total time=   0.0s\n",
            "[CV] END ...........C=0.1, degree=5, gamma=0.05, kernel=poly; total time=   0.0s\n",
            "[CV] END ............C=0.1, degree=5, gamma=0.1, kernel=poly; total time=   0.0s\n",
            "[CV] END ............C=0.1, degree=5, gamma=0.1, kernel=poly; total time=   0.0s\n",
            "[CV] END ............C=0.1, degree=5, gamma=0.1, kernel=poly; total time=   0.0s\n",
            "[CV] END ............C=0.1, degree=5, gamma=0.1, kernel=poly; total time=   0.0s\n",
            "[CV] END ............C=0.1, degree=5, gamma=0.1, kernel=poly; total time=   0.0s\n",
            "[CV] END ............C=0.1, degree=5, gamma=0.5, kernel=poly; total time=   0.0s\n",
            "[CV] END ............C=0.1, degree=5, gamma=0.5, kernel=poly; total time=   0.0s\n",
            "[CV] END ............C=0.1, degree=5, gamma=0.5, kernel=poly; total time=   0.0s\n",
            "[CV] END ............C=0.1, degree=5, gamma=0.5, kernel=poly; total time=   0.0s\n",
            "[CV] END ............C=0.1, degree=5, gamma=0.5, kernel=poly; total time=   0.0s\n",
            "[CV] END .............C=1, degree=2, gamma=0.05, kernel=poly; total time=   0.0s\n",
            "[CV] END .............C=1, degree=2, gamma=0.05, kernel=poly; total time=   0.0s\n",
            "[CV] END .............C=1, degree=2, gamma=0.05, kernel=poly; total time=   0.0s\n",
            "[CV] END .............C=1, degree=2, gamma=0.05, kernel=poly; total time=   0.0s\n",
            "[CV] END .............C=1, degree=2, gamma=0.05, kernel=poly; total time=   0.0s\n",
            "[CV] END ..............C=1, degree=2, gamma=0.1, kernel=poly; total time=   0.0s\n",
            "[CV] END ..............C=1, degree=2, gamma=0.1, kernel=poly; total time=   0.0s\n",
            "[CV] END ..............C=1, degree=2, gamma=0.1, kernel=poly; total time=   0.0s\n",
            "[CV] END ..............C=1, degree=2, gamma=0.1, kernel=poly; total time=   0.0s\n",
            "[CV] END ..............C=1, degree=2, gamma=0.1, kernel=poly; total time=   0.0s\n",
            "[CV] END ..............C=1, degree=2, gamma=0.5, kernel=poly; total time=   0.0s\n",
            "[CV] END ..............C=1, degree=2, gamma=0.5, kernel=poly; total time=   0.0s\n",
            "[CV] END ..............C=1, degree=2, gamma=0.5, kernel=poly; total time=   0.0s\n",
            "[CV] END ..............C=1, degree=2, gamma=0.5, kernel=poly; total time=   0.0s\n",
            "[CV] END ..............C=1, degree=2, gamma=0.5, kernel=poly; total time=   0.0s\n",
            "[CV] END .............C=1, degree=3, gamma=0.05, kernel=poly; total time=   0.0s\n",
            "[CV] END .............C=1, degree=3, gamma=0.05, kernel=poly; total time=   0.0s\n",
            "[CV] END .............C=1, degree=3, gamma=0.05, kernel=poly; total time=   0.0s\n",
            "[CV] END .............C=1, degree=3, gamma=0.05, kernel=poly; total time=   0.0s\n",
            "[CV] END .............C=1, degree=3, gamma=0.05, kernel=poly; total time=   0.0s\n",
            "[CV] END ..............C=1, degree=3, gamma=0.1, kernel=poly; total time=   0.0s\n",
            "[CV] END ..............C=1, degree=3, gamma=0.1, kernel=poly; total time=   0.0s\n",
            "[CV] END ..............C=1, degree=3, gamma=0.1, kernel=poly; total time=   0.0s\n",
            "[CV] END ..............C=1, degree=3, gamma=0.1, kernel=poly; total time=   0.0s\n",
            "[CV] END ..............C=1, degree=3, gamma=0.1, kernel=poly; total time=   0.0s\n",
            "[CV] END ..............C=1, degree=3, gamma=0.5, kernel=poly; total time=   0.0s\n",
            "[CV] END ..............C=1, degree=3, gamma=0.5, kernel=poly; total time=   0.0s\n",
            "[CV] END ..............C=1, degree=3, gamma=0.5, kernel=poly; total time=   0.0s\n",
            "[CV] END ..............C=1, degree=3, gamma=0.5, kernel=poly; total time=   0.0s\n",
            "[CV] END ..............C=1, degree=3, gamma=0.5, kernel=poly; total time=   0.0s\n",
            "[CV] END .............C=1, degree=5, gamma=0.05, kernel=poly; total time=   0.0s\n",
            "[CV] END .............C=1, degree=5, gamma=0.05, kernel=poly; total time=   0.0s\n",
            "[CV] END .............C=1, degree=5, gamma=0.05, kernel=poly; total time=   0.0s\n",
            "[CV] END .............C=1, degree=5, gamma=0.05, kernel=poly; total time=   0.0s\n",
            "[CV] END .............C=1, degree=5, gamma=0.05, kernel=poly; total time=   0.0s\n",
            "[CV] END ..............C=1, degree=5, gamma=0.1, kernel=poly; total time=   0.0s\n",
            "[CV] END ..............C=1, degree=5, gamma=0.1, kernel=poly; total time=   0.0s\n",
            "[CV] END ..............C=1, degree=5, gamma=0.1, kernel=poly; total time=   0.0s\n",
            "[CV] END ..............C=1, degree=5, gamma=0.1, kernel=poly; total time=   0.0s\n",
            "[CV] END ..............C=1, degree=5, gamma=0.1, kernel=poly; total time=   0.0s\n",
            "[CV] END ..............C=1, degree=5, gamma=0.5, kernel=poly; total time=   0.0s\n",
            "[CV] END ..............C=1, degree=5, gamma=0.5, kernel=poly; total time=   0.0s\n",
            "[CV] END ..............C=1, degree=5, gamma=0.5, kernel=poly; total time=   0.0s\n",
            "[CV] END ..............C=1, degree=5, gamma=0.5, kernel=poly; total time=   0.0s\n",
            "[CV] END ..............C=1, degree=5, gamma=0.5, kernel=poly; total time=   0.0s\n",
            "[CV] END ............C=10, degree=2, gamma=0.05, kernel=poly; total time=   0.0s\n",
            "[CV] END ............C=10, degree=2, gamma=0.05, kernel=poly; total time=   0.0s\n",
            "[CV] END ............C=10, degree=2, gamma=0.05, kernel=poly; total time=   0.0s\n",
            "[CV] END ............C=10, degree=2, gamma=0.05, kernel=poly; total time=   0.0s\n",
            "[CV] END ............C=10, degree=2, gamma=0.05, kernel=poly; total time=   0.0s\n",
            "[CV] END .............C=10, degree=2, gamma=0.1, kernel=poly; total time=   0.0s\n",
            "[CV] END .............C=10, degree=2, gamma=0.1, kernel=poly; total time=   0.0s\n",
            "[CV] END .............C=10, degree=2, gamma=0.1, kernel=poly; total time=   0.0s\n",
            "[CV] END .............C=10, degree=2, gamma=0.1, kernel=poly; total time=   0.0s\n",
            "[CV] END .............C=10, degree=2, gamma=0.1, kernel=poly; total time=   0.0s\n",
            "[CV] END .............C=10, degree=2, gamma=0.5, kernel=poly; total time=   0.0s\n",
            "[CV] END .............C=10, degree=2, gamma=0.5, kernel=poly; total time=   0.0s\n",
            "[CV] END .............C=10, degree=2, gamma=0.5, kernel=poly; total time=   0.0s\n",
            "[CV] END .............C=10, degree=2, gamma=0.5, kernel=poly; total time=   0.0s\n",
            "[CV] END .............C=10, degree=2, gamma=0.5, kernel=poly; total time=   0.0s\n",
            "[CV] END ............C=10, degree=3, gamma=0.05, kernel=poly; total time=   0.0s\n",
            "[CV] END ............C=10, degree=3, gamma=0.05, kernel=poly; total time=   0.0s\n",
            "[CV] END ............C=10, degree=3, gamma=0.05, kernel=poly; total time=   0.0s\n",
            "[CV] END ............C=10, degree=3, gamma=0.05, kernel=poly; total time=   0.0s\n",
            "[CV] END ............C=10, degree=3, gamma=0.05, kernel=poly; total time=   0.0s\n",
            "[CV] END .............C=10, degree=3, gamma=0.1, kernel=poly; total time=   0.0s\n",
            "[CV] END .............C=10, degree=3, gamma=0.1, kernel=poly; total time=   0.0s\n",
            "[CV] END .............C=10, degree=3, gamma=0.1, kernel=poly; total time=   0.0s\n",
            "[CV] END .............C=10, degree=3, gamma=0.1, kernel=poly; total time=   0.0s\n",
            "[CV] END .............C=10, degree=3, gamma=0.1, kernel=poly; total time=   0.0s\n",
            "[CV] END .............C=10, degree=3, gamma=0.5, kernel=poly; total time=   0.0s\n",
            "[CV] END .............C=10, degree=3, gamma=0.5, kernel=poly; total time=   0.0s\n",
            "[CV] END .............C=10, degree=3, gamma=0.5, kernel=poly; total time=   0.0s\n",
            "[CV] END .............C=10, degree=3, gamma=0.5, kernel=poly; total time=   0.0s\n",
            "[CV] END .............C=10, degree=3, gamma=0.5, kernel=poly; total time=   0.0s\n",
            "[CV] END ............C=10, degree=5, gamma=0.05, kernel=poly; total time=   0.0s\n",
            "[CV] END ............C=10, degree=5, gamma=0.05, kernel=poly; total time=   0.0s\n",
            "[CV] END ............C=10, degree=5, gamma=0.05, kernel=poly; total time=   0.0s\n",
            "[CV] END ............C=10, degree=5, gamma=0.05, kernel=poly; total time=   0.0s\n",
            "[CV] END ............C=10, degree=5, gamma=0.05, kernel=poly; total time=   0.0s\n",
            "[CV] END .............C=10, degree=5, gamma=0.1, kernel=poly; total time=   0.0s\n",
            "[CV] END .............C=10, degree=5, gamma=0.1, kernel=poly; total time=   0.0s\n",
            "[CV] END .............C=10, degree=5, gamma=0.1, kernel=poly; total time=   0.0s\n",
            "[CV] END .............C=10, degree=5, gamma=0.1, kernel=poly; total time=   0.0s\n",
            "[CV] END .............C=10, degree=5, gamma=0.1, kernel=poly; total time=   0.0s\n",
            "[CV] END .............C=10, degree=5, gamma=0.5, kernel=poly; total time=   0.0s\n",
            "[CV] END .............C=10, degree=5, gamma=0.5, kernel=poly; total time=   0.0s\n",
            "[CV] END .............C=10, degree=5, gamma=0.5, kernel=poly; total time=   0.0s\n",
            "[CV] END .............C=10, degree=5, gamma=0.5, kernel=poly; total time=   0.0s\n",
            "[CV] END .............C=10, degree=5, gamma=0.5, kernel=poly; total time=   0.0s\n",
            "[CV] END ..............................C=0.1, kernel=sigmoid; total time=   0.0s\n",
            "[CV] END ..............................C=0.1, kernel=sigmoid; total time=   0.0s\n",
            "[CV] END ..............................C=0.1, kernel=sigmoid; total time=   0.0s\n",
            "[CV] END ..............................C=0.1, kernel=sigmoid; total time=   0.0s\n",
            "[CV] END ..............................C=0.1, kernel=sigmoid; total time=   0.0s\n",
            "[CV] END ................................C=1, kernel=sigmoid; total time=   0.0s\n",
            "[CV] END ................................C=1, kernel=sigmoid; total time=   0.0s\n",
            "[CV] END ................................C=1, kernel=sigmoid; total time=   0.0s\n",
            "[CV] END ................................C=1, kernel=sigmoid; total time=   0.0s\n",
            "[CV] END ................................C=1, kernel=sigmoid; total time=   0.0s\n",
            "[CV] END ...............................C=10, kernel=sigmoid; total time=   0.0s\n",
            "[CV] END ...............................C=10, kernel=sigmoid; total time=   0.0s\n",
            "[CV] END ...............................C=10, kernel=sigmoid; total time=   0.0s\n",
            "[CV] END ...............................C=10, kernel=sigmoid; total time=   0.0s\n",
            "[CV] END ...............................C=10, kernel=sigmoid; total time=   0.0s\n",
            "[CV] END ..............................C=100, kernel=sigmoid; total time=   0.0s\n",
            "[CV] END ..............................C=100, kernel=sigmoid; total time=   0.0s\n",
            "[CV] END ..............................C=100, kernel=sigmoid; total time=   0.0s\n",
            "[CV] END ..............................C=100, kernel=sigmoid; total time=   0.0s\n",
            "[CV] END ..............................C=100, kernel=sigmoid; total time=   0.0s\n",
            "[CV] END .............................C=1000, kernel=sigmoid; total time=   0.0s\n",
            "[CV] END .............................C=1000, kernel=sigmoid; total time=   0.0s\n",
            "[CV] END .............................C=1000, kernel=sigmoid; total time=   0.0s\n",
            "[CV] END .............................C=1000, kernel=sigmoid; total time=   0.0s\n",
            "[CV] END .............................C=1000, kernel=sigmoid; total time=   0.0s\n"
          ]
        },
        {
          "output_type": "execute_result",
          "data": {
            "text/plain": [
              "GridSearchCV(cv=5, estimator=SVC(),\n",
              "             param_grid=[{'C': [0.1, 1, 10, 100], 'kernel': ['linear']},\n",
              "                         {'C': [0.1, 1, 10, 100, 150, 200],\n",
              "                          'gamma': [0.05, 0.1, 0.5, 0.7, 0.9],\n",
              "                          'kernel': ['rbf']},\n",
              "                         {'C': [0.1, 1, 10], 'degree': [2, 3, 5],\n",
              "                          'gamma': [0.05, 0.1, 0.5], 'kernel': ['poly']},\n",
              "                         {'C': [0.1, 1, 10, 100, 1000], 'kernel': ['sigmoid']}],\n",
              "             verbose=2)"
            ],
            "text/html": [
              "<style>#sk-container-id-8 {color: black;background-color: white;}#sk-container-id-8 pre{padding: 0;}#sk-container-id-8 div.sk-toggleable {background-color: white;}#sk-container-id-8 label.sk-toggleable__label {cursor: pointer;display: block;width: 100%;margin-bottom: 0;padding: 0.3em;box-sizing: border-box;text-align: center;}#sk-container-id-8 label.sk-toggleable__label-arrow:before {content: \"▸\";float: left;margin-right: 0.25em;color: #696969;}#sk-container-id-8 label.sk-toggleable__label-arrow:hover:before {color: black;}#sk-container-id-8 div.sk-estimator:hover label.sk-toggleable__label-arrow:before {color: black;}#sk-container-id-8 div.sk-toggleable__content {max-height: 0;max-width: 0;overflow: hidden;text-align: left;background-color: #f0f8ff;}#sk-container-id-8 div.sk-toggleable__content pre {margin: 0.2em;color: black;border-radius: 0.25em;background-color: #f0f8ff;}#sk-container-id-8 input.sk-toggleable__control:checked~div.sk-toggleable__content {max-height: 200px;max-width: 100%;overflow: auto;}#sk-container-id-8 input.sk-toggleable__control:checked~label.sk-toggleable__label-arrow:before {content: \"▾\";}#sk-container-id-8 div.sk-estimator input.sk-toggleable__control:checked~label.sk-toggleable__label {background-color: #d4ebff;}#sk-container-id-8 div.sk-label input.sk-toggleable__control:checked~label.sk-toggleable__label {background-color: #d4ebff;}#sk-container-id-8 input.sk-hidden--visually {border: 0;clip: rect(1px 1px 1px 1px);clip: rect(1px, 1px, 1px, 1px);height: 1px;margin: -1px;overflow: hidden;padding: 0;position: absolute;width: 1px;}#sk-container-id-8 div.sk-estimator {font-family: monospace;background-color: #f0f8ff;border: 1px dotted black;border-radius: 0.25em;box-sizing: border-box;margin-bottom: 0.5em;}#sk-container-id-8 div.sk-estimator:hover {background-color: #d4ebff;}#sk-container-id-8 div.sk-parallel-item::after {content: \"\";width: 100%;border-bottom: 1px solid gray;flex-grow: 1;}#sk-container-id-8 div.sk-label:hover label.sk-toggleable__label {background-color: #d4ebff;}#sk-container-id-8 div.sk-serial::before {content: \"\";position: absolute;border-left: 1px solid gray;box-sizing: border-box;top: 0;bottom: 0;left: 50%;z-index: 0;}#sk-container-id-8 div.sk-serial {display: flex;flex-direction: column;align-items: center;background-color: white;padding-right: 0.2em;padding-left: 0.2em;position: relative;}#sk-container-id-8 div.sk-item {position: relative;z-index: 1;}#sk-container-id-8 div.sk-parallel {display: flex;align-items: stretch;justify-content: center;background-color: white;position: relative;}#sk-container-id-8 div.sk-item::before, #sk-container-id-8 div.sk-parallel-item::before {content: \"\";position: absolute;border-left: 1px solid gray;box-sizing: border-box;top: 0;bottom: 0;left: 50%;z-index: -1;}#sk-container-id-8 div.sk-parallel-item {display: flex;flex-direction: column;z-index: 1;position: relative;background-color: white;}#sk-container-id-8 div.sk-parallel-item:first-child::after {align-self: flex-end;width: 50%;}#sk-container-id-8 div.sk-parallel-item:last-child::after {align-self: flex-start;width: 50%;}#sk-container-id-8 div.sk-parallel-item:only-child::after {width: 0;}#sk-container-id-8 div.sk-dashed-wrapped {border: 1px dashed gray;margin: 0 0.4em 0.5em 0.4em;box-sizing: border-box;padding-bottom: 0.4em;background-color: white;}#sk-container-id-8 div.sk-label label {font-family: monospace;font-weight: bold;display: inline-block;line-height: 1.2em;}#sk-container-id-8 div.sk-label-container {text-align: center;}#sk-container-id-8 div.sk-container {/* jupyter's `normalize.less` sets `[hidden] { display: none; }` but bootstrap.min.css set `[hidden] { display: none !important; }` so we also need the `!important` here to be able to override the default hidden behavior on the sphinx rendered scikit-learn.org. See: https://github.com/scikit-learn/scikit-learn/issues/21755 */display: inline-block !important;position: relative;}#sk-container-id-8 div.sk-text-repr-fallback {display: none;}</style><div id=\"sk-container-id-8\" class=\"sk-top-container\"><div class=\"sk-text-repr-fallback\"><pre>GridSearchCV(cv=5, estimator=SVC(),\n",
              "             param_grid=[{&#x27;C&#x27;: [0.1, 1, 10, 100], &#x27;kernel&#x27;: [&#x27;linear&#x27;]},\n",
              "                         {&#x27;C&#x27;: [0.1, 1, 10, 100, 150, 200],\n",
              "                          &#x27;gamma&#x27;: [0.05, 0.1, 0.5, 0.7, 0.9],\n",
              "                          &#x27;kernel&#x27;: [&#x27;rbf&#x27;]},\n",
              "                         {&#x27;C&#x27;: [0.1, 1, 10], &#x27;degree&#x27;: [2, 3, 5],\n",
              "                          &#x27;gamma&#x27;: [0.05, 0.1, 0.5], &#x27;kernel&#x27;: [&#x27;poly&#x27;]},\n",
              "                         {&#x27;C&#x27;: [0.1, 1, 10, 100, 1000], &#x27;kernel&#x27;: [&#x27;sigmoid&#x27;]}],\n",
              "             verbose=2)</pre><b>In a Jupyter environment, please rerun this cell to show the HTML representation or trust the notebook. <br />On GitHub, the HTML representation is unable to render, please try loading this page with nbviewer.org.</b></div><div class=\"sk-container\" hidden><div class=\"sk-item sk-dashed-wrapped\"><div class=\"sk-label-container\"><div class=\"sk-label sk-toggleable\"><input class=\"sk-toggleable__control sk-hidden--visually\" id=\"sk-estimator-id-14\" type=\"checkbox\" ><label for=\"sk-estimator-id-14\" class=\"sk-toggleable__label sk-toggleable__label-arrow\">GridSearchCV</label><div class=\"sk-toggleable__content\"><pre>GridSearchCV(cv=5, estimator=SVC(),\n",
              "             param_grid=[{&#x27;C&#x27;: [0.1, 1, 10, 100], &#x27;kernel&#x27;: [&#x27;linear&#x27;]},\n",
              "                         {&#x27;C&#x27;: [0.1, 1, 10, 100, 150, 200],\n",
              "                          &#x27;gamma&#x27;: [0.05, 0.1, 0.5, 0.7, 0.9],\n",
              "                          &#x27;kernel&#x27;: [&#x27;rbf&#x27;]},\n",
              "                         {&#x27;C&#x27;: [0.1, 1, 10], &#x27;degree&#x27;: [2, 3, 5],\n",
              "                          &#x27;gamma&#x27;: [0.05, 0.1, 0.5], &#x27;kernel&#x27;: [&#x27;poly&#x27;]},\n",
              "                         {&#x27;C&#x27;: [0.1, 1, 10, 100, 1000], &#x27;kernel&#x27;: [&#x27;sigmoid&#x27;]}],\n",
              "             verbose=2)</pre></div></div></div><div class=\"sk-parallel\"><div class=\"sk-parallel-item\"><div class=\"sk-item\"><div class=\"sk-label-container\"><div class=\"sk-label sk-toggleable\"><input class=\"sk-toggleable__control sk-hidden--visually\" id=\"sk-estimator-id-15\" type=\"checkbox\" ><label for=\"sk-estimator-id-15\" class=\"sk-toggleable__label sk-toggleable__label-arrow\">estimator: SVC</label><div class=\"sk-toggleable__content\"><pre>SVC()</pre></div></div></div><div class=\"sk-serial\"><div class=\"sk-item\"><div class=\"sk-estimator sk-toggleable\"><input class=\"sk-toggleable__control sk-hidden--visually\" id=\"sk-estimator-id-16\" type=\"checkbox\" ><label for=\"sk-estimator-id-16\" class=\"sk-toggleable__label sk-toggleable__label-arrow\">SVC</label><div class=\"sk-toggleable__content\"><pre>SVC()</pre></div></div></div></div></div></div></div></div></div></div>"
            ]
          },
          "metadata": {},
          "execution_count": 203
        }
      ]
    },
    {
      "cell_type": "code",
      "source": [
        "print('Best score for training data:', svm_model_ovo.best_score_,\"\\n\")\n",
        "print('Best Estimator:',svm_model_ovo.best_estimator_,\"\\n\")\n",
        "print('Best C:',svm_model_ovo.best_estimator_.C,\"\\n\")\n",
        "print('Best Kernel:',svm_model_ovo.best_estimator_.kernel,\"\\n\")\n",
        "if svm_model_ovo.best_estimator_.kernel == \"poly\":\n",
        "  print('Best degree:', svm_model_ovo.best_estimator_.degree)\n",
        "  print('Best gamma:', svm_model_ovo.best_estimator_.gamma)\n",
        "if svm_model_ovo.best_estimator_.kernel == \"rbf\":\n",
        "  print('Best gamma:', svm_model_ovo.best_estimator_.gamma)"
      ],
      "metadata": {
        "id": "zrLPJb8fF3G6",
        "colab": {
          "base_uri": "https://localhost:8080/"
        },
        "outputId": "6847b9a0-f6bc-4101-8a84-2689d0e55524"
      },
      "execution_count": null,
      "outputs": [
        {
          "output_type": "stream",
          "name": "stdout",
          "text": [
            "Best score for training data: 0.38367947386638973 \n",
            "\n",
            "Best Estimator: SVC(C=150, gamma=0.7) \n",
            "\n",
            "Best C: 150 \n",
            "\n",
            "Best Kernel: rbf \n",
            "\n",
            "Best gamma: 0.7\n"
          ]
        }
      ]
    },
    {
      "cell_type": "code",
      "source": [
        "if svm_model_ovo.best_estimator_.kernel == \"poly\":\n",
        "  svml = svm.SVC( kernel = \"poly\",\n",
        "                 C = svm_model_ovo.best_estimator_.C,\n",
        "                 degree = svm_model_ovo.best_estimator_.degree,\n",
        "                 gamma = svm_model_ovo.best_estimator_.gamma)\n",
        "  svml.fit(X_train, y_train)\n",
        "elif svm_model_ovo.best_estimator_.kernel == \"rbf\":\n",
        "  svml = svm.SVC(kernel = \"rbf\",\n",
        "                 C = svm_model_ovo.best_estimator_.C,\n",
        "                 gamma = svm_model_ovo.best_estimator_.gamma)\n",
        "  svml.fit(X_train, y_train)\n",
        "else:\n",
        "  svml = svm.SVC(kernel = svm_model_ovo.best_estimator_.kernel,\n",
        "                 C = svm_model_ovo.best_estimator_.C)\n",
        "  svml.fit(X_train, y_train)"
      ],
      "metadata": {
        "id": "6DGrJdv1F9Np"
      },
      "execution_count": null,
      "outputs": []
    },
    {
      "cell_type": "code",
      "source": [
        "y_pred = svml.predict(X_test)\n",
        "print('Accuracy (test): ', accuracy_score(y_pred, y_test))"
      ],
      "metadata": {
        "id": "aOcEP5-gHZBk",
        "colab": {
          "base_uri": "https://localhost:8080/"
        },
        "outputId": "6455534c-6910-47e7-f102-55fc54820d57"
      },
      "execution_count": null,
      "outputs": [
        {
          "output_type": "stream",
          "name": "stdout",
          "text": [
            "točnost (test):  0.4\n"
          ]
        }
      ]
    },
    {
      "cell_type": "code",
      "source": [
        "print(\"Training set score for SVM: %f\" % svml.score(X_train , y_train))\n",
        "print(\"Testing  set score for SVM: %f\" % svml.score(X_test, y_test))"
      ],
      "metadata": {
        "id": "kMPE56dlI7FO",
        "colab": {
          "base_uri": "https://localhost:8080/"
        },
        "outputId": "e243232d-5aba-4bdb-e0e3-7c512c9abc69"
      },
      "execution_count": null,
      "outputs": [
        {
          "output_type": "stream",
          "name": "stdout",
          "text": [
            "Training set score for SVM: 0.467412\n",
            "Testing  set score for SVM: 0.400000\n"
          ]
        }
      ]
    },
    {
      "cell_type": "code",
      "source": [
        "confusionMTRX_SVM = confusion_matrix(y_test, y_pred)"
      ],
      "metadata": {
        "id": "K5gXyiY3Hctj"
      },
      "execution_count": null,
      "outputs": []
    },
    {
      "cell_type": "code",
      "source": [
        "disp_SVM = ConfusionMatrixDisplay(confusion_matrix=confusionMTRX_SVM)\n",
        "disp_SVM.plot()\n",
        "plt.show()"
      ],
      "metadata": {
        "id": "EzcOF1DIHeIl",
        "colab": {
          "base_uri": "https://localhost:8080/",
          "height": 279
        },
        "outputId": "8c4da10e-1a1d-4c24-ac08-4db614e4d8bd"
      },
      "execution_count": null,
      "outputs": [
        {
          "output_type": "display_data",
          "data": {
            "text/plain": [
              "<Figure size 432x288 with 2 Axes>"
            ],
            "image/png": "[encoded data removed]"
          },
          "metadata": {
            "needs_background": "light"
          }
        }
      ]
    },
    {
      "cell_type": "code",
      "source": [
        "# save the model\n",
        "# dump(svml, 'eeg_svml.joblib')"
      ],
      "metadata": {
        "id": "3XjkMB-oMv4E"
      },
      "execution_count": null,
      "outputs": []
    },
    {
      "cell_type": "markdown",
      "source": [
        "SVM does not give good results like knn. We see that the worst forecast is class 0, i.e. \"UP\"."
      ],
      "metadata": {
        "id": "OG7hshN7JLYW"
      }
    },
    {
      "cell_type": "markdown",
      "source": [
        "## 4.3. Convolutional Neural Network\n",
        "\n",
        "**Description:**\n",
        "\n",
        "A neural network is an architecture in artificial intelligence that teaches computers to process data in a way inspired by the human brain. It's a type of machine learning process called deep learning, which uses interconnected nodes or neurons in a layered structure resembling the human brain. The basic building unit is the neuron. They consist of input layers, hidden layers, and an output layer. One of the architectures of neural networks is the Convolutional Neural Network (CNN), which is primarily used for classification, most commonly in the field of computer vision (images). These networks are easily recognizable because they have 2 layers in the architecture specific to convolutional neural networks, namely the convolutional layer and the pooling layer.\n",
        "\n",
        "* Convolutional layers - this is the most important layer of convolutional neural networks (most computation)\n",
        "\n",
        "  <img src=\"https://i.stack.imgur.com/WNIXd.png\" height=\"160px\" />\n",
        "\n",
        "    * the input is passed through a filter, resulting in a feature map / activation map\n",
        "\n",
        "    * the weights (values) of the filters are learned during training\n",
        "\n",
        "    * neurons are only connected to part of the input\n",
        "\n",
        "    * Neurons share weights, reducing the number of parameters learned\n",
        "\n",
        "    * Different filters detect different features\n",
        "\n",
        "* Pooling layer - reduces the height and width of the input and implements invariance to small translations of the input\n",
        "\n",
        "    * max pooling - finds the maximum\n",
        "\n",
        "  <img src=\"https://www.researchgate.net/publication/324177888/figure/fig4/AS:611641670524928@1522838146208/1D-max-pooling-operation.png\" height=\"160px\" />\n",
        "\n",
        "    * min pooling - finds the minimum\n",
        "\n",
        "    * average pooling - finds the average\n",
        "\n",
        "  <img src=\"https://ars.els-cdn.com/content/image/3-s2.0-B9780128222263000118-f11-07-9780128222263.jpg\" height=\"300px\"/>\n",
        "\n",
        "* Fully connected layer - usually at the end of the network, must have the number of outputs equal to the number of classes we are predicting\n",
        "\n",
        "<img src=\"https://www.mdpi.com/sensors/sensors-22-08343/article_deploy/html/images/sensors-22-08343-g001.png\" height=\"200px\"/>\n",
        "\n",
        "\n",
        "Convolutional neural networks can also be applied to one-dimensional sequences of data. CNNs are commonly used in time series classification because they can learn from raw data, i.e., they do not require manual feature engineering.\n",
        "\n",
        "**Features:**\n",
        "\n",
        "* classification\n",
        "\n",
        "* supervised learning\n",
        "\n",
        "* require larger datasets\n",
        "\n",
        "* parameters and architecture can significantly affect results\n",
        "\n",
        "* harder interpretation (black box)\n",
        "\n",
        "**Parameters:**\n",
        "\n",
        "* Conv1D - convolutional layer\n",
        "\n",
        "    * filters - number of sliding windows\n",
        "\n",
        "    * kernel_size - size of the sliding window\n",
        "\n",
        "    * activation - activation function\n",
        "    \n",
        "<img src=\"https://studymachinelearning.com/wp-content/uploads/2019/10/summary_activation_fn.png\" height=\"200px\" />\n",
        "\n",
        "    \n",
        "  * input_shape - shape of the data\n",
        "\n",
        "* MaxPooling1D - pooling layer\n",
        "\n",
        "    * pool_size - size of the pooling window\n",
        "\n",
        "* Flatten - flattening\n",
        "\n",
        "* Dense\n",
        "\n",
        "    * activation - activation function\n",
        "\n",
        "Compile:\n",
        "\n",
        "* loss - function that compares target and predicted output values; measures how well the neural network models the data during training\n",
        "\n",
        "* optimizer - algorithm or method used to minimize the loss function or increase production efficiency. Optimizers are mathematical functions that depend on model parameters that can be learned, i.e., weights and biases. Optimizers help determine how to change the weights and learning rate of the neural network to reduce losses. The most popular ones are:\n",
        "\n",
        "* metrics - function used to evaluate model performance. They are similar to loss functions, except that the results of metric evaluation are not used in model training.\n",
        "\n",
        "Fitting:\n",
        "\n",
        "* batch_size - number of examples used in one iteration of training\n",
        "\n",
        "* epochs - one complete pass through the training dataset through the algorithm\n",
        "\n",
        "\n",
        "<img src=\"https://cdn-images-1.medium.com/fit/t/1600/480/1*5A4b1qOZIr4Q6SKceqGn7w.jpeg\" height=\"200px\" />\n"
      ],
      "metadata": {
        "id": "nxFlgQakKWIo"
      }
    },
    {
      "cell_type": "code",
      "source": [
        "# transform\n",
        "x_train_cnn = X_train.reshape(X_train.shape[0], X_train.shape[1], 1)\n",
        "x_test_cnn = X_test.reshape(X_test.shape[0], X_test.shape[1], 1)\n",
        "print(X_train.shape, X_test.shape)"
      ],
      "metadata": {
        "colab": {
          "base_uri": "https://localhost:8080/"
        },
        "id": "Q168WoyaPs8w",
        "outputId": "b8804d15-0232-4051-d1c4-f10267309a8c"
      },
      "execution_count": null,
      "outputs": [
        {
          "output_type": "stream",
          "name": "stdout",
          "text": [
            "(537, 7) (135, 7)\n"
          ]
        }
      ]
    },
    {
      "cell_type": "code",
      "source": [
        "y_train_cnn = y_train.to_numpy()\n",
        "y_test_cnn = y_test.to_numpy()\n",
        "print(y_train_cnn.shape, y_test_cnn.shape)"
      ],
      "metadata": {
        "id": "MVuUVqHESRh5",
        "colab": {
          "base_uri": "https://localhost:8080/"
        },
        "outputId": "2831e7dd-0a81-4c2c-ac6b-d28fd942fb84"
      },
      "execution_count": null,
      "outputs": [
        {
          "output_type": "stream",
          "name": "stdout",
          "text": [
            "(537,) (135,)\n"
          ]
        }
      ]
    },
    {
      "cell_type": "code",
      "source": [
        "model = Sequential()\n",
        "# model.add(Conv1D(64, kernel_size = (3), activation='relu', input_shape=(7, 1)))\n",
        "# model.add(Conv1D(32, kernel_size = (3), activation='relu'))\n",
        "# model.add(MaxPooling1D(pool_size=(2)))\n",
        "# model.add(Flatten())\n",
        "# model.add(Dense(4, activation='softmax'))\n",
        "\n",
        "model.add(Conv1D(64, kernel_size = (5), activation='relu', padding='same', input_shape=(7, 1)))\n",
        "model.add(Conv1D(128, kernel_size = (5), activation='relu', padding='same'))\n",
        "model.add(Conv1D(256, kernel_size = (5), activation='relu', padding='same'))\n",
        "model.add(Conv1D(512, kernel_size = (5), activation='relu', padding='same'))\n",
        "model.add(Conv1D(64, kernel_size = (2), activation='relu', padding='same'))\n",
        "model.add(Flatten())\n",
        "model.add(Dense(4, activation='softmax'))\n",
        "model.compile(loss = 'sparse_categorical_crossentropy',\n",
        "              optimizer = \"adam\",\n",
        "              metrics = ['accuracy'])\n",
        "model.summary()"
      ],
      "metadata": {
        "colab": {
          "base_uri": "https://localhost:8080/"
        },
        "id": "j8WxRZG2OMYl",
        "outputId": "37840ba5-875a-4064-c93d-b3776e4ec73b"
      },
      "execution_count": null,
      "outputs": [
        {
          "output_type": "stream",
          "name": "stdout",
          "text": [
            "Model: \"sequential_7\"\n",
            "_________________________________________________________________\n",
            " Layer (type)                Output Shape              Param #   \n",
            "=================================================================\n",
            " conv1d_35 (Conv1D)          (None, 7, 64)             384       \n",
            "                                                                 \n",
            " conv1d_36 (Conv1D)          (None, 7, 128)            41088     \n",
            "                                                                 \n",
            " conv1d_37 (Conv1D)          (None, 7, 256)            164096    \n",
            "                                                                 \n",
            " conv1d_38 (Conv1D)          (None, 7, 512)            655872    \n",
            "                                                                 \n",
            " conv1d_39 (Conv1D)          (None, 7, 64)             65600     \n",
            "                                                                 \n",
            " flatten_7 (Flatten)         (None, 448)               0         \n",
            "                                                                 \n",
            " dense_7 (Dense)             (None, 4)                 1796      \n",
            "                                                                 \n",
            "=================================================================\n",
            "Total params: 928,836\n",
            "Trainable params: 928,836\n",
            "Non-trainable params: 0\n",
            "_________________________________________________________________\n"
          ]
        }
      ]
    },
    {
      "cell_type": "code",
      "source": [
        "# @title\n",
        "epo=30\n",
        "cnn_history = model.fit(x_train_cnn, y_train_cnn, batch_size=32, epochs=epo, verbose=2, validation_data = (x_test_cnn, y_test_cnn))"
      ],
      "metadata": {
        "colab": {
          "base_uri": "https://localhost:8080/"
        },
        "id": "7F3Gmb4BSKZ0",
        "outputId": "0d7350d0-a437-4484-c454-d7940c45dc06"
      },
      "execution_count": null,
      "outputs": [
        {
          "output_type": "stream",
          "name": "stdout",
          "text": [
            "Epoch 1/30\n",
            "17/17 - 5s - loss: 1.3821 - accuracy: 0.2626 - val_loss: 1.3699 - val_accuracy: 0.3630 - 5s/epoch - 279ms/step\n",
            "Epoch 2/30\n",
            "17/17 - 2s - loss: 1.3581 - accuracy: 0.2588 - val_loss: 1.3515 - val_accuracy: 0.2963 - 2s/epoch - 117ms/step\n",
            "Epoch 3/30\n",
            "17/17 - 2s - loss: 1.3249 - accuracy: 0.3128 - val_loss: 1.3355 - val_accuracy: 0.3037 - 2s/epoch - 119ms/step\n",
            "Epoch 4/30\n",
            "17/17 - 2s - loss: 1.3094 - accuracy: 0.3538 - val_loss: 1.3268 - val_accuracy: 0.3185 - 2s/epoch - 117ms/step\n",
            "Epoch 5/30\n",
            "17/17 - 2s - loss: 1.3084 - accuracy: 0.3464 - val_loss: 1.2950 - val_accuracy: 0.3630 - 2s/epoch - 118ms/step\n",
            "Epoch 6/30\n",
            "17/17 - 3s - loss: 1.2830 - accuracy: 0.3594 - val_loss: 1.2991 - val_accuracy: 0.3333 - 3s/epoch - 159ms/step\n",
            "Epoch 7/30\n",
            "17/17 - 3s - loss: 1.2530 - accuracy: 0.4134 - val_loss: 1.2881 - val_accuracy: 0.3852 - 3s/epoch - 155ms/step\n",
            "Epoch 8/30\n",
            "17/17 - 2s - loss: 1.2499 - accuracy: 0.3985 - val_loss: 1.3025 - val_accuracy: 0.3926 - 2s/epoch - 143ms/step\n",
            "Epoch 9/30\n",
            "17/17 - 3s - loss: 1.2508 - accuracy: 0.4022 - val_loss: 1.2768 - val_accuracy: 0.3778 - 3s/epoch - 172ms/step\n",
            "Epoch 10/30\n",
            "17/17 - 2s - loss: 1.2321 - accuracy: 0.4227 - val_loss: 1.2658 - val_accuracy: 0.3259 - 2s/epoch - 118ms/step\n",
            "Epoch 11/30\n",
            "17/17 - 2s - loss: 1.2190 - accuracy: 0.4283 - val_loss: 1.2646 - val_accuracy: 0.3926 - 2s/epoch - 138ms/step\n",
            "Epoch 12/30\n",
            "17/17 - 3s - loss: 1.2000 - accuracy: 0.4488 - val_loss: 1.2667 - val_accuracy: 0.4000 - 3s/epoch - 181ms/step\n",
            "Epoch 13/30\n",
            "17/17 - 2s - loss: 1.2005 - accuracy: 0.4395 - val_loss: 1.2666 - val_accuracy: 0.4000 - 2s/epoch - 119ms/step\n",
            "Epoch 14/30\n",
            "17/17 - 2s - loss: 1.1934 - accuracy: 0.4339 - val_loss: 1.2755 - val_accuracy: 0.4593 - 2s/epoch - 122ms/step\n",
            "Epoch 15/30\n",
            "17/17 - 2s - loss: 1.1984 - accuracy: 0.4562 - val_loss: 1.2792 - val_accuracy: 0.4074 - 2s/epoch - 118ms/step\n",
            "Epoch 16/30\n",
            "17/17 - 2s - loss: 1.1925 - accuracy: 0.4618 - val_loss: 1.2855 - val_accuracy: 0.4000 - 2s/epoch - 117ms/step\n",
            "Epoch 17/30\n",
            "17/17 - 2s - loss: 1.1678 - accuracy: 0.4749 - val_loss: 1.3044 - val_accuracy: 0.3926 - 2s/epoch - 135ms/step\n",
            "Epoch 18/30\n",
            "17/17 - 3s - loss: 1.1601 - accuracy: 0.4693 - val_loss: 1.3101 - val_accuracy: 0.4444 - 3s/epoch - 180ms/step\n",
            "Epoch 19/30\n",
            "17/17 - 2s - loss: 1.1703 - accuracy: 0.4749 - val_loss: 1.2915 - val_accuracy: 0.3852 - 2s/epoch - 118ms/step\n",
            "Epoch 20/30\n",
            "17/17 - 2s - loss: 1.1379 - accuracy: 0.4916 - val_loss: 1.2792 - val_accuracy: 0.4000 - 2s/epoch - 117ms/step\n",
            "Epoch 21/30\n",
            "17/17 - 2s - loss: 1.1500 - accuracy: 0.4786 - val_loss: 1.3775 - val_accuracy: 0.3778 - 2s/epoch - 119ms/step\n",
            "Epoch 22/30\n",
            "17/17 - 2s - loss: 1.1168 - accuracy: 0.5084 - val_loss: 1.3195 - val_accuracy: 0.4000 - 2s/epoch - 119ms/step\n",
            "Epoch 23/30\n",
            "17/17 - 2s - loss: 1.0992 - accuracy: 0.4786 - val_loss: 1.4083 - val_accuracy: 0.3556 - 2s/epoch - 133ms/step\n",
            "Epoch 24/30\n",
            "17/17 - 3s - loss: 1.1302 - accuracy: 0.4786 - val_loss: 1.4406 - val_accuracy: 0.3630 - 3s/epoch - 181ms/step\n",
            "Epoch 25/30\n",
            "17/17 - 2s - loss: 1.1262 - accuracy: 0.4730 - val_loss: 1.3431 - val_accuracy: 0.3852 - 2s/epoch - 116ms/step\n",
            "Epoch 26/30\n",
            "17/17 - 3s - loss: 1.0986 - accuracy: 0.5158 - val_loss: 1.3567 - val_accuracy: 0.4000 - 3s/epoch - 149ms/step\n",
            "Epoch 27/30\n",
            "17/17 - 3s - loss: 1.0634 - accuracy: 0.5121 - val_loss: 1.3793 - val_accuracy: 0.3926 - 3s/epoch - 166ms/step\n",
            "Epoch 28/30\n",
            "17/17 - 2s - loss: 1.0641 - accuracy: 0.5233 - val_loss: 1.3888 - val_accuracy: 0.3481 - 2s/epoch - 119ms/step\n",
            "Epoch 29/30\n",
            "17/17 - 3s - loss: 1.0514 - accuracy: 0.5456 - val_loss: 1.5056 - val_accuracy: 0.3778 - 3s/epoch - 170ms/step\n",
            "Epoch 30/30\n",
            "17/17 - 2s - loss: 1.0784 - accuracy: 0.5121 - val_loss: 1.4861 - val_accuracy: 0.3926 - 2s/epoch - 143ms/step\n"
          ]
        }
      ]
    },
    {
      "cell_type": "code",
      "source": [
        "plt.figure(figsize=(20,5))\n",
        "plt.subplot(1, 2, 1)\n",
        "plt.title(\"Loss\")\n",
        "plt.xlabel(\"epoch\")\n",
        "plt.ylabel(\"Loss\")\n",
        "plt.plot(range(1,epo+1), cnn_history.history['loss'], label = 'train')\n",
        "plt.plot(range(1,epo+1), cnn_history.history['val_loss'], label = 'test')\n",
        "plt.legend()\n",
        "\n",
        "plt.subplot(1, 2, 2)\n",
        "plt.title(\"Accuracy\")\n",
        "plt.xlabel(\"epoch\")\n",
        "plt.ylabel(\"Accuracy\")\n",
        "plt.plot(range(1,epo+1), cnn_history.history['accuracy'], label = 'train')\n",
        "plt.plot(range(1,epo+1), cnn_history.history['val_accuracy'], label = 'test')\n",
        "plt.legend()"
      ],
      "metadata": {
        "id": "_XVq5oo7Oe0c",
        "colab": {
          "base_uri": "https://localhost:8080/",
          "height": 367
        },
        "outputId": "9c9e1a50-5dbd-40c1-a902-4865e814eb31"
      },
      "execution_count": null,
      "outputs": [
        {
          "output_type": "execute_result",
          "data": {
            "text/plain": [
              "<matplotlib.legend.Legend at 0x7ffaf16445b0>"
            ]
          },
          "metadata": {},
          "execution_count": 215
        },
        {
          "output_type": "display_data",
          "data": {
            "text/plain": [
              "<Figure size 1440x360 with 2 Axes>"
            ],
            "image/png": "[encoded data removed]"
          },
          "metadata": {
            "needs_background": "light"
          }
        }
      ]
    },
    {
      "cell_type": "code",
      "source": [
        "pred = model.predict(x_test_cnn)\n",
        "pred_y = pred.argmax(axis=-1)"
      ],
      "metadata": {
        "id": "5VVUyVjkSm-b",
        "colab": {
          "base_uri": "https://localhost:8080/"
        },
        "outputId": "f698a046-8081-4e98-e193-f7e162ed9623"
      },
      "execution_count": null,
      "outputs": [
        {
          "output_type": "stream",
          "name": "stdout",
          "text": [
            "5/5 [==============================] - 0s 9ms/step\n"
          ]
        }
      ]
    },
    {
      "cell_type": "code",
      "source": [
        "confusionMTRX_CNN = confusion_matrix(y_test_cnn, pred_y)"
      ],
      "metadata": {
        "id": "f7zrww_qStU4"
      },
      "execution_count": null,
      "outputs": []
    },
    {
      "cell_type": "code",
      "source": [
        "disp_CNN = ConfusionMatrixDisplay(confusion_matrix=confusionMTRX_CNN)\n",
        "disp_CNN.plot()\n",
        "plt.show()"
      ],
      "metadata": {
        "id": "Vqg9o4_tS0Ca",
        "colab": {
          "base_uri": "https://localhost:8080/",
          "height": 283
        },
        "outputId": "dcc39cba-2013-4b08-82e5-9ef85ee92f78"
      },
      "execution_count": null,
      "outputs": [
        {
          "output_type": "display_data",
          "data": {
            "text/plain": [
              "<Figure size 432x288 with 2 Axes>"
            ],
            "image/png": "[encoded data removed]"
          },
          "metadata": {
            "needs_background": "light"
          }
        }
      ]
    },
    {
      "cell_type": "code",
      "source": [
        "# save the model\n",
        "# model.save('eeg_cnn.h5')"
      ],
      "metadata": {
        "id": "kqCt_hZmNAHa"
      },
      "execution_count": null,
      "outputs": []
    },
    {
      "cell_type": "markdown",
      "source": [
        "CNN performs slightly better than SVM but worse than KNN. Two architectures were tested for prediction, but the one unchecked yields better results. Overfitting can also be observed here. This can be seen from the graph, namely, the accuracy on the training set increases while it decreases on the test set. In this case, CNN is not the best solution because we have a small dataset, which is also reflected in the results provided by the model."
      ],
      "metadata": {
        "id": "9A8nDqGWvymO"
      }
    },
    {
      "cell_type": "markdown",
      "source": [
        "# 5. Conclusion"
      ],
      "metadata": {
        "id": "LIF7zIE781aM"
      }
    },
    {
      "cell_type": "markdown",
      "source": [
        "<p align=\"justify\">\n",
        "In this project, we attempted to classify the direction of movement of an object using EEG data. However, in the end, we did not achieve the best results with any of the 3 machine learning algorithms. Among them, the K-nearest neighbors algorithm performed the best, while the convolutional neural network performed the worst. The accuracy of the K-nearest neighbors algorithm for 4 classes is not so bad, considering the number of classes we are predicting. There could be many reasons for the unsuccessful classification. The most likely one lies in the data itself. EEG recordings are specific to each individual, and we cannot know how good our data is at first glance. We must consider that this is an endogenous BCI, and it can be very difficult for the participant to imagine the direction. Direction is specific in that it can be a quite abstract concept for the participant to imagine. In the end, we can say that we are not quite satisfied with the obtained results.\n",
        "</p>\n"
      ],
      "metadata": {
        "id": "Tan0HXt3wfES"
      }
    }
  ]
}